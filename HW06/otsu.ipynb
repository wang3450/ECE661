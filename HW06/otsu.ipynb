{
 "cells": [
  {
   "cell_type": "markdown",
   "source": [
    "Import Statements"
   ],
   "metadata": {
    "collapsed": false
   }
  },
  {
   "cell_type": "code",
   "execution_count": 24,
   "metadata": {
    "collapsed": true
   },
   "outputs": [],
   "source": [
    "import cv2\n",
    "from otsu_helper import *\n",
    "%matplotlib inline\n",
    "import cv2\n",
    "import matplotlib.pyplot as plt\n",
    "import numpy as np"
   ]
  },
  {
   "cell_type": "markdown",
   "source": [
    "Load the Image Set"
   ],
   "metadata": {
    "collapsed": false
   }
  },
  {
   "cell_type": "code",
   "execution_count": 25,
   "outputs": [],
   "source": [
    "imageSet = \"car\"\n",
    "raw_input_image, grey_input_image = loadImages(imageSet)"
   ],
   "metadata": {
    "collapsed": false
   }
  },
  {
   "cell_type": "markdown",
   "source": [
    "Perform Image Segmentation Using RGB values"
   ],
   "metadata": {
    "collapsed": false
   }
  },
  {
   "cell_type": "code",
   "execution_count": 26,
   "outputs": [
    {
     "name": "stderr",
     "output_type": "stream",
     "text": [
      "100%|█████████▉| 232/233 [00:11<00:00, 18.11it/s]/home/jo_wang/anaconda3/envs/ece661/lib/python3.8/site-packages/numpy/core/fromnumeric.py:3715: RuntimeWarning: Degrees of freedom <= 0 for slice\n",
      "  return _methods._var(a, axis=axis, dtype=dtype, out=out, ddof=ddof,\n",
      "/home/jo_wang/anaconda3/envs/ece661/lib/python3.8/site-packages/numpy/core/_methods.py:223: RuntimeWarning: invalid value encountered in divide\n",
      "  arrmean = um.true_divide(arrmean, div, out=arrmean, casting='unsafe',\n",
      "/home/jo_wang/anaconda3/envs/ece661/lib/python3.8/site-packages/numpy/core/_methods.py:257: RuntimeWarning: invalid value encountered in double_scalars\n",
      "  ret = ret.dtype.type(ret / rcount)\n",
      "100%|██████████| 233/233 [00:11<00:00, 19.57it/s]\n",
      "100%|██████████| 256/256 [00:12<00:00, 19.84it/s]\n",
      "100%|██████████| 256/256 [00:13<00:00, 19.63it/s]\n"
     ]
    }
   ],
   "source": [
    "# split the raw input image into 3 individual channels\n",
    "blueChannel, greenChannel, redChannel = cv2.split(raw_input_image)\n",
    "\n",
    "# apply segmentation on each individual channel\n",
    "blueChannel_mask = minWithinClassVariance(blueChannel)\n",
    "greenChannel_mask = minWithinClassVariance(greenChannel)\n",
    "redChannel_mask = minWithinClassVariance(redChannel)\n",
    "\n",
    "# # combine all masks together\n"
   ],
   "metadata": {
    "collapsed": false
   }
  },
  {
   "cell_type": "code",
   "execution_count": 27,
   "outputs": [
    {
     "data": {
      "text/plain": "True"
     },
     "execution_count": 27,
     "metadata": {},
     "output_type": "execute_result"
    }
   ],
   "source": [
    "mask_all = np.ones(blueChannel.shape)\n",
    "mask_all = np.logical_and(mask_all, blueChannel_mask)\n",
    "mask_all = np.logical_and(mask_all, redChannel_mask)\n",
    "mask_all = np.logical_and(mask_all, greenChannel_mask).astype(np.uint8) * 255\n",
    "\n",
    "cv2.imwrite(f\"/home/jo_wang/Desktop/ECE661/HW06/rgb_segmentation/{imageSet}_rgb_seg.jpg\", mask_all)\n",
    "# cv2.imshow('maskall.jpg', mask_all)\n",
    "# cv2.imshow('blue.jpg', blueChannel_mask)\n",
    "# cv2.imshow('green.jpg', greenChannel_mask)\n",
    "# cv2.imshow('red.jpg', redChannel_mask)\n",
    "#\n",
    "# cv2.waitKey(0)\n",
    "# cv2.destroyAllWindows()"
   ],
   "metadata": {
    "collapsed": false
   }
  },
  {
   "cell_type": "markdown",
   "source": [
    "Perform Texture Based Segmentation"
   ],
   "metadata": {
    "collapsed": false
   }
  },
  {
   "cell_type": "code",
   "execution_count": 28,
   "outputs": [
    {
     "name": "stderr",
     "output_type": "stream",
     "text": [
      "100%|██████████| 256/256 [00:12<00:00, 20.15it/s]\n",
      "100%|██████████| 256/256 [00:13<00:00, 19.33it/s]\n",
      "100%|██████████| 256/256 [00:13<00:00, 18.91it/s]\n"
     ]
    },
    {
     "data": {
      "text/plain": "True"
     },
     "execution_count": 28,
     "metadata": {},
     "output_type": "execute_result"
    }
   ],
   "source": [
    "ch1 = performTexture(grey_input_image, 3)\n",
    "ch2 = performTexture(grey_input_image, 5)\n",
    "ch3 = performTexture(grey_input_image, 7)\n",
    "\n",
    "ch1_otsu = minWithinClassVariance(ch1)\n",
    "ch2_otsu = minWithinClassVariance(ch2)\n",
    "ch3_otsu = minWithinClassVariance(ch3)\n",
    "\n",
    "texture_all = np.ones(ch1_otsu.shape)\n",
    "texture_all = np.logical_and(texture_all, ch1_otsu)\n",
    "texture_all = np.logical_and(texture_all, ch2_otsu)\n",
    "\n",
    "cv2.imwrite(f\"/home/jo_wang/Desktop/ECE661/HW06/texture_segmentation/{imageSet}_texture_seg.jpg\", np.logical_not(texture_all).astype(np.uint8) * 255)\n"
   ],
   "metadata": {
    "collapsed": false
   }
  },
  {
   "cell_type": "markdown",
   "source": [
    "Extract Contours"
   ],
   "metadata": {
    "collapsed": false
   }
  },
  {
   "cell_type": "code",
   "execution_count": 29,
   "outputs": [
    {
     "data": {
      "text/plain": "True"
     },
     "execution_count": 29,
     "metadata": {},
     "output_type": "execute_result"
    }
   ],
   "source": [
    "texture_all = np.logical_not(texture_all).astype(np.uint8) * 255\n",
    "contourImage = getContour(np.logical_not(texture_all // 255).astype(np.uint8))\n",
    "cv2.imwrite(f\"/home/jo_wang/Desktop/ECE661/HW06/contour_extraction/{imageSet}_contour_seg.jpg\", contourImage)"
   ],
   "metadata": {
    "collapsed": false
   }
  }
 ],
 "metadata": {
  "kernelspec": {
   "display_name": "Python 3",
   "language": "python",
   "name": "python3"
  },
  "language_info": {
   "codemirror_mode": {
    "name": "ipython",
    "version": 2
   },
   "file_extension": ".py",
   "mimetype": "text/x-python",
   "name": "python",
   "nbconvert_exporter": "python",
   "pygments_lexer": "ipython2",
   "version": "2.7.6"
  }
 },
 "nbformat": 4,
 "nbformat_minor": 0
}
