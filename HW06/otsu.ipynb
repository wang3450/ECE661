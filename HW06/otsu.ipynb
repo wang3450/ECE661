{
 "cells": [
  {
   "cell_type": "markdown",
   "source": [
    "Import Statements"
   ],
   "metadata": {
    "collapsed": false,
    "pycharm": {
     "name": "#%% md\n"
    }
   }
  },
  {
   "cell_type": "code",
   "execution_count": 15,
   "metadata": {
    "collapsed": true,
    "pycharm": {
     "name": "#%%\n"
    }
   },
   "outputs": [],
   "source": [
    "import cv2\n",
    "from otsu_helper import *\n",
    "%matplotlib inline\n",
    "import cv2\n",
    "import matplotlib.pyplot as plt\n",
    "import numpy as np"
   ]
  },
  {
   "cell_type": "markdown",
   "source": [
    "Load the Image Set"
   ],
   "metadata": {
    "collapsed": false,
    "pycharm": {
     "name": "#%% md\n"
    }
   }
  },
  {
   "cell_type": "code",
   "execution_count": 16,
   "outputs": [
    {
     "data": {
      "text/plain": "(716, 717, 3)"
     },
     "execution_count": 16,
     "metadata": {},
     "output_type": "execute_result"
    }
   ],
   "source": [
    "imageSet = \"miku2\"\n",
    "raw_input_image, grey_input_image = loadImages(imageSet)\n",
    "raw_input_image.shape"
   ],
   "metadata": {
    "collapsed": false
   }
  },
  {
   "cell_type": "markdown",
   "source": [
    "Perform Image Segmentation Using RGB values"
   ],
   "metadata": {
    "collapsed": false,
    "pycharm": {
     "name": "#%% md\n"
    }
   }
  },
  {
   "cell_type": "code",
   "execution_count": 17,
   "outputs": [
    {
     "name": "stderr",
     "output_type": "stream",
     "text": [
      "  0%|          | 0/242 [00:00<?, ?it/s]/home/jo_wang/anaconda3/envs/ece661/lib/python3.8/site-packages/numpy/core/fromnumeric.py:3715: RuntimeWarning: Degrees of freedom <= 0 for slice\n",
      "  return _methods._var(a, axis=axis, dtype=dtype, out=out, ddof=ddof,\n",
      "/home/jo_wang/anaconda3/envs/ece661/lib/python3.8/site-packages/numpy/core/_methods.py:223: RuntimeWarning: invalid value encountered in divide\n",
      "  arrmean = um.true_divide(arrmean, div, out=arrmean, casting='unsafe',\n",
      "/home/jo_wang/anaconda3/envs/ece661/lib/python3.8/site-packages/numpy/core/_methods.py:257: RuntimeWarning: invalid value encountered in double_scalars\n",
      "  ret = ret.dtype.type(ret / rcount)\n",
      "100%|██████████| 242/242 [00:33<00:00,  7.24it/s]\n"
     ]
    },
    {
     "name": "stdout",
     "output_type": "stream",
     "text": [
      "best threshold:117\n"
     ]
    },
    {
     "name": "stderr",
     "output_type": "stream",
     "text": [
      "100%|██████████| 254/254 [00:35<00:00,  7.25it/s]\n"
     ]
    },
    {
     "name": "stdout",
     "output_type": "stream",
     "text": [
      "best threshold:111\n"
     ]
    },
    {
     "name": "stderr",
     "output_type": "stream",
     "text": [
      "100%|██████████| 256/256 [00:35<00:00,  7.27it/s]"
     ]
    },
    {
     "name": "stdout",
     "output_type": "stream",
     "text": [
      "best threshold:119\n"
     ]
    },
    {
     "name": "stderr",
     "output_type": "stream",
     "text": [
      "\n"
     ]
    }
   ],
   "source": [
    "# split the raw input image into 3 individual channels\n",
    "blueChannel, greenChannel, redChannel = cv2.split(raw_input_image)\n",
    "\n",
    "# apply erosion then dilation of the image\n",
    "# kernel = np.ones((5, 5), np.uint8)\n",
    "# blueChannel_mask = cv2.erode(blueChannel, kernel, iterations=5)\n",
    "# greenChannel_mask = cv2.erode(greenChannel, kernel, iterations=5)\n",
    "# redChannel_mask = cv2.erode(redChannel, kernel, iterations=5)\n",
    "#\n",
    "# blueChannel_mask = cv2.dilate(blueChannel, kernel, iterations=5)\n",
    "# greenChannel_mask = cv2.dilate(greenChannel, kernel, iterations=5)\n",
    "# redChannel_mask = cv2.dilate(redChannel, kernel, iterations=5)\n",
    "\n",
    "# apply segmentation on each individual channel\n",
    "blueChannel_mask = minWithinClassVariance(blueChannel)\n",
    "greenChannel_mask = minWithinClassVariance(greenChannel)\n",
    "redChannel_mask = minWithinClassVariance(redChannel)\n",
    "\n",
    "# # combine all masks together\n"
   ],
   "metadata": {
    "collapsed": false,
    "pycharm": {
     "name": "#%%\n"
    }
   }
  },
  {
   "cell_type": "code",
   "execution_count": 18,
   "outputs": [
    {
     "data": {
      "text/plain": "True"
     },
     "execution_count": 18,
     "metadata": {},
     "output_type": "execute_result"
    }
   ],
   "source": [
    "mask_all = np.ones(blueChannel.shape)\n",
    "mask_all = np.logical_and(mask_all, blueChannel_mask)\n",
    "mask_all = np.logical_and(mask_all, redChannel_mask)\n",
    "mask_all = np.logical_and(mask_all, greenChannel_mask).astype(np.uint8) * 255\n",
    "\n",
    "all_channels_plot = np.hstack((blueChannel_mask, greenChannel_mask))\n",
    "all_channels_plot = np.hstack((all_channels_plot, redChannel_mask))\n",
    "all_channels_plot = np.hstack((all_channels_plot, mask_all))\n",
    "\n",
    "cv2.imwrite(f'/home/jo_wang/Desktop/ECE661/HW06/rgb_suplots/{imageSet}_rgb_subplot.jpg', all_channels_plot)\n",
    "cv2.imwrite(f\"/home/jo_wang/Desktop/ECE661/HW06/rgb_segmentation/{imageSet}_rgb_seg.jpg\", mask_all)\n"
   ],
   "metadata": {
    "collapsed": false,
    "pycharm": {
     "name": "#%%\n"
    }
   }
  },
  {
   "cell_type": "markdown",
   "source": [
    "Perform Texture Based Segmentation"
   ],
   "metadata": {
    "collapsed": false,
    "pycharm": {
     "name": "#%% md\n"
    }
   }
  },
  {
   "cell_type": "code",
   "execution_count": 19,
   "outputs": [
    {
     "name": "stderr",
     "output_type": "stream",
     "text": [
      "100%|██████████| 256/256 [00:35<00:00,  7.22it/s]\n"
     ]
    },
    {
     "name": "stdout",
     "output_type": "stream",
     "text": [
      "best threshold:76\n"
     ]
    },
    {
     "name": "stderr",
     "output_type": "stream",
     "text": [
      "100%|██████████| 256/256 [00:34<00:00,  7.50it/s]\n"
     ]
    },
    {
     "name": "stdout",
     "output_type": "stream",
     "text": [
      "best threshold:81\n"
     ]
    },
    {
     "name": "stderr",
     "output_type": "stream",
     "text": [
      "100%|██████████| 256/256 [00:32<00:00,  7.81it/s]"
     ]
    },
    {
     "name": "stdout",
     "output_type": "stream",
     "text": [
      "best threshold:83\n"
     ]
    },
    {
     "name": "stderr",
     "output_type": "stream",
     "text": [
      "\n"
     ]
    },
    {
     "data": {
      "text/plain": "True"
     },
     "execution_count": 19,
     "metadata": {},
     "output_type": "execute_result"
    }
   ],
   "source": [
    "ch1 = performTexture(grey_input_image, 3)\n",
    "ch2 = performTexture(grey_input_image, 5)\n",
    "ch3 = performTexture(grey_input_image, 7)\n",
    "\n",
    "ch1_otsu = minWithinClassVariance(ch1)\n",
    "ch2_otsu = minWithinClassVariance(ch2)\n",
    "ch3_otsu = minWithinClassVariance(ch3)\n",
    "\n",
    "texture_all = np.ones(ch1_otsu.shape)\n",
    "texture_all = np.logical_and(texture_all, ch1_otsu)\n",
    "texture_all = np.logical_and(texture_all, ch2_otsu)\n",
    "\n",
    "all_texture_subplot = np.hstack((np.logical_not(ch1_otsu).astype(np.uint8) * 255, np.logical_not(ch2_otsu).astype(np.uint8) * 255))\n",
    "all_texture_subplot = np.hstack((all_texture_subplot, np.logical_not(ch3_otsu).astype(np.uint8) * 255))\n",
    "all_texture_subplot = np.hstack((all_texture_subplot, np.logical_not(texture_all).astype(np.uint8) * 255))\n",
    "cv2.imwrite(f'/home/jo_wang/Desktop/ECE661/HW06/texture_subplot/{imageSet}_texture_subplot.jpg', all_texture_subplot)\n",
    "cv2.imwrite(f\"/home/jo_wang/Desktop/ECE661/HW06/texture_segmentation/{imageSet}_texture_seg.jpg\", np.logical_not(texture_all).astype(np.uint8) * 255)\n"
   ],
   "metadata": {
    "collapsed": false,
    "pycharm": {
     "name": "#%%\n"
    }
   }
  },
  {
   "cell_type": "markdown",
   "source": [
    "Extract Contours"
   ],
   "metadata": {
    "collapsed": false,
    "pycharm": {
     "name": "#%% md\n"
    }
   }
  },
  {
   "cell_type": "code",
   "execution_count": 20,
   "outputs": [
    {
     "data": {
      "text/plain": "True"
     },
     "execution_count": 20,
     "metadata": {},
     "output_type": "execute_result"
    }
   ],
   "source": [
    "texture_all = np.logical_not(texture_all).astype(np.uint8) * 255\n",
    "\n",
    "# kernel = np.ones((5, 5), np.uint8)\n",
    "# texture_all = cv2.erode(texture_all, kernel, iterations=1)\n",
    "# texture_all = cv2.dilate(texture_all, kernel, iterations=1)\n",
    "\n",
    "contourImage = getContour(np.logical_not(texture_all // 255).astype(np.uint8))\n",
    "contourRGB = getContour(np.logical_not(mask_all // 255).astype(np.uint8))\n",
    "cv2.imwrite(f\"/home/jo_wang/Desktop/ECE661/HW06/contour_extraction/{imageSet}_contour_rgb.jpg\", np.logical_not(contourRGB // 255).astype(np.uint8) * 255)\n",
    "cv2.imwrite(f\"/home/jo_wang/Desktop/ECE661/HW06/contour_extraction/{imageSet}_contour_texture.jpg\", np.logical_not(contourImage // 255).astype(np.uint8) * 255)"
   ],
   "metadata": {
    "collapsed": false
   }
  },
  {
   "cell_type": "code",
   "execution_count": 21,
   "outputs": [
    {
     "name": "stdout",
     "output_type": "stream",
     "text": [
      "(716, 717)\n",
      "(716, 717)\n"
     ]
    },
    {
     "data": {
      "text/plain": "True"
     },
     "execution_count": 21,
     "metadata": {},
     "output_type": "execute_result"
    }
   ],
   "source": [
    "print(texture_all.shape)\n",
    "print(contourImage.shape)\n",
    "# og_bgr = np.hstack((raw_input_image, cv2.cvtColor(mask_all, cv2.COLOR_GRAY2RGB)))\n",
    "# texture_contour = np.hstack((cv2.cvtColor(texture_all, cv2.COLOR_GRAY2RGB), cv2.cvtColor(np.logical_not(contourImage // 255).astype(np.uint8) * 255, cv2.COLOR_GRAY2RGB) ) )\n",
    "# final_image = np.vstack((og_bgr, texture_contour))\n",
    "\n",
    "top = np.hstack((mask_all, np.logical_not(contourRGB // 255).astype(np.uint8) * 255))\n",
    "bottom = np.hstack((texture_all, np.logical_not(contourImage // 255).astype(np.uint8) * 255))\n",
    "final = np.vstack((top,bottom))\n",
    "# rgb seg           rgb contour\n",
    "# texture seg       texture contour\n",
    "cv2.imwrite(f\"/home/jo_wang/Desktop/ECE661/HW06/final_subplots/{imageSet}_final_subplots.jpg\", final)\n"
   ],
   "metadata": {
    "collapsed": false
   }
  }
 ],
 "metadata": {
  "kernelspec": {
   "display_name": "Python 3",
   "language": "python",
   "name": "python3"
  },
  "language_info": {
   "codemirror_mode": {
    "name": "ipython",
    "version": 2
   },
   "file_extension": ".py",
   "mimetype": "text/x-python",
   "name": "python",
   "nbconvert_exporter": "python",
   "pygments_lexer": "ipython2",
   "version": "2.7.6"
  }
 },
 "nbformat": 4,
 "nbformat_minor": 0
}
