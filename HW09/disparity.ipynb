{
 "cells": [
  {
   "cell_type": "code",
   "execution_count": 23,
   "outputs": [],
   "source": [
    "import numpy as np\n",
    "import cv2\n",
    "from tqdm import tqdm"
   ],
   "metadata": {
    "collapsed": false,
    "pycharm": {
     "name": "#%%\n"
    }
   }
  },
  {
   "cell_type": "code",
   "execution_count": 24,
   "metadata": {
    "collapsed": true
   },
   "outputs": [],
   "source": [
    "def census(left_img, right_img, M, dMax) :\n",
    "    win_half = int(M / 2 )\n",
    "    border = dMax + win_half\n",
    "\n",
    "    '''pad the images to prevent data loss'''\n",
    "    imgL = np.pad(left_img, border)\n",
    "    imgR = np.pad(right_img, border)\n",
    "    width = imgL.shape[1]\n",
    "    height = imgL.shape[0]\n",
    "    dMap = np.zeros_like(imgL)\n",
    "\n",
    "    '''double for loop to raster scan image'''\n",
    "    for left_row in tqdm(range(border, height - border)):\n",
    "        for left_col in range(width - border - 1, border -1, -1):\n",
    "            costVec = []\n",
    "            windowL = imgL[left_row - win_half : left_row + win_half + 1, \\\n",
    "                           left_col - win_half : left_col + win_half + 1]\n",
    "            binWinL = np.ravel((windowL > imgL [left_row , left_col]) * 1)\n",
    "\n",
    "            '''searching through disparity values to identify minima'''\n",
    "            for d in range(dMax + 1):\n",
    "                rowR = left_row\n",
    "                colR = left_col - d\n",
    "                windowR = imgR[rowR - win_half : rowR + win_half + 1 , \\\n",
    "                          colR - win_half : colR + win_half + 1]\n",
    "                binWinR = np.ravel((windowR > imgR[rowR , colR]) * 1)\n",
    "                costVec.append(sum(binWinL ^ binWinR))\n",
    "            dMap[left_row, left_col] = np.argmin(costVec)\n",
    "    return dMap.astype(np.uint8)"
   ]
  },
  {
   "cell_type": "code",
   "execution_count": 25,
   "outputs": [
    {
     "name": "stderr",
     "output_type": "stream",
     "text": [
      "100%|██████████| 375/375 [03:05<00:00,  2.02it/s]\n"
     ]
    }
   ],
   "source": [
    "# Read in the input images\n",
    "left_image = cv2.imread('/Users/wang3450/Desktop/ECE661/HW09/input_images/im2.png',0)\n",
    "right_image = cv2.imread('/Users/wang3450/Desktop/ECE661/HW09/input_images/im6.png',0)\n",
    "\n",
    "# Hyper Parameters\n",
    "M = 10\n",
    "dmax = 52\n",
    "\n",
    "# apply census transform\n",
    "dmap = census(left_image, right_image, M, dmax)\n",
    "dmap_viewable = (dmap / np.max(dmap) * 255).astype(np.uint8)"
   ],
   "metadata": {
    "collapsed": false,
    "pycharm": {
     "name": "#%%\n"
    }
   }
  },
  {
   "cell_type": "code",
   "execution_count": 26,
   "outputs": [
    {
     "name": "stdout",
     "output_type": "stream",
     "text": [
      "Error Min/Max: 0, 52 \n",
      "0.802141536460979\n"
     ]
    }
   ],
   "source": [
    "dmap_gt = cv2.imread('/Users/wang3450/Desktop/ECE661/HW09/input_images/disp2.png')\n",
    "dmap_gt = cv2.cvtColor(dmap_gt, cv2.COLOR_BGR2GRAY)\n",
    "dmap_gt = dmap_gt.astype(np.float32) / 4\n",
    "dmap_gt = dmap_gt.astype(np.uint8)\n",
    "\n",
    "# compute the error\n",
    "dmap_gt = np.pad(dmap_gt, (52 + (int(M/2))))\n",
    "error = abs(dmap.astype(np.int16) - dmap_gt.astype(np.int16)).astype(np.uint8)\n",
    "print(f'Error Min/Max: {np.min(error)}, {np.max(error)} ')\n",
    "\n",
    "c1 = (error <= 2) * 255\n",
    "c1 = c1.astype(np.uint8)\n",
    "\n",
    "validMask = cv2.imread('/Users/wang3450/Desktop/ECE661/HW09/input_images/occl.png', 0)\n",
    "validMask = np.pad(validMask, (52 + (int(M/2))))\n",
    "N = cv2.countNonZero(validMask)\n",
    "\n",
    "validError = cv2.bitwise_and(validMask, c1)\n",
    "\n",
    "d2Error = cv2.countNonZero(validError) / N\n",
    "\n",
    "submit_image = np.hstack((dmap_viewable, validError))\n",
    "cv2.imwrite('/Users/wang3450/Desktop/ECE661/HW09/results/task3_results/submit_image_' + str(dmax) + \"_\" + str(M) + '.jpg', submit_image)\n",
    "print(d2Error)"
   ],
   "metadata": {
    "collapsed": false,
    "pycharm": {
     "name": "#%%\n"
    }
   }
  },
  {
   "cell_type": "code",
   "execution_count": 26,
   "outputs": [],
   "source": [],
   "metadata": {
    "collapsed": false,
    "pycharm": {
     "name": "#%%\n"
    }
   }
  }
 ],
 "metadata": {
  "kernelspec": {
   "display_name": "Python 3",
   "language": "python",
   "name": "python3"
  },
  "language_info": {
   "codemirror_mode": {
    "name": "ipython",
    "version": 2
   },
   "file_extension": ".py",
   "mimetype": "text/x-python",
   "name": "python",
   "nbconvert_exporter": "python",
   "pygments_lexer": "ipython2",
   "version": "2.7.6"
  }
 },
 "nbformat": 4,
 "nbformat_minor": 0
}