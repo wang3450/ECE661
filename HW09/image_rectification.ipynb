{
 "cells": [
  {
   "cell_type": "markdown",
   "source": [
    "# Image Rectification\n",
    "The goal of image rectificiation is to find the Homographies H and H' for the stereo images such that in the transformed image pai, the same world point appears on the same row."
   ],
   "metadata": {
    "collapsed": false
   }
  },
  {
   "cell_type": "markdown",
   "source": [
    "### Import Statements"
   ],
   "metadata": {
    "collapsed": false
   }
  },
  {
   "cell_type": "code",
   "execution_count": 1,
   "metadata": {
    "collapsed": true
   },
   "outputs": [],
   "source": [
    "import cv2\n",
    "import numpy as np\n",
    "from scipy.optimize import least_squares\n",
    "from image_rectification_helper import *"
   ]
  },
  {
   "cell_type": "markdown",
   "source": [
    "### Load Images"
   ],
   "metadata": {
    "collapsed": false
   }
  },
  {
   "cell_type": "code",
   "execution_count": 2,
   "outputs": [],
   "source": [
    "left_file_path = \"/Users/wang3450/Desktop/ECE661/HW09/input_images/left.jpg\"\n",
    "right_file_path = \"/Users/wang3450/Desktop/ECE661/HW09/input_images/right.jpg\"\n",
    "left_img = cv2.imread(left_file_path, 1)\n",
    "right_img = cv2.imread(right_file_path, 1)\n",
    "assert(left_img.shape == right_img.shape)"
   ],
   "metadata": {
    "collapsed": false
   }
  },
  {
   "cell_type": "markdown",
   "source": [
    "### Point Correspondences\n",
    "Purpose: Establish Point 8 point correspondences between left and right image\n",
    "* x_points (list): list of points in left image\n",
    "* x_points_prime (list): list of points in right image\n",
    "* Both lists look like this:\n",
    "[[x1,y1], [x2,y2], [x3,y3], ..., [x8,y8]]"
   ],
   "metadata": {
    "collapsed": false
   }
  },
  {
   "cell_type": "code",
   "execution_count": 3,
   "outputs": [],
   "source": [
    "point_corr_image  = np.hstack((left_img, right_img))\n",
    "width_adj = right_img.shape[1]\n",
    "x_points = [[722, 347], [690, 466], [820, 338], [785, 453], [284,487], [280, 463], [477, 191], [622,185]]\n",
    "x_prime_points = [[618,428], [599, 531], [750, 433], [717, 537], [265,457], [274,430], [505,182], [674,184]]\n",
    "rainbow = [(211, 0, 148), (130, 0, 75), (255, 0, 0), (0, 255, 0), (0, 255, 255), (0, 127, 255), (0, 0, 255), (0, 0, 0)]\n",
    "\n",
    "for i in range(len(x_points)):\n",
    "    left_point = tuple(x_points[i])\n",
    "    right_point = (x_prime_points[i][0] + width_adj, x_prime_points[i][1])\n",
    "    cv2.circle(point_corr_image, left_point, 4, rainbow[i], -1)\n",
    "    cv2.circle(point_corr_image, right_point, 4, rainbow[i], -1)\n",
    "    cv2.line(point_corr_image, left_point, right_point, rainbow[i], 1)\n",
    "\n",
    "# cv2.imwrite(\"point_correspondences.jpg\", point_corr_image)"
   ],
   "metadata": {
    "collapsed": false
   }
  },
  {
   "cell_type": "markdown",
   "source": [
    "### Normalized 8-point Algorithm for F\n",
    "Purpose: Given 8 image point correspondences (x, x'), determine the fundamental matrix F\n",
    "\n",
    "Algorithm:\n",
    "1. Normalization: Transform the image coordinates to: $\\hat x_i = Tx_i$ and $\\hat x'_i = T'x'_i$\n",
    "\n",
    "    T = $\\begin{bmatrix}\n",
    "            s & 0 & -s\\bar x\\\\\n",
    "            0 & s & -s\\bar y\\\\\n",
    "            0 & 0 & 1\\\\\n",
    "        \\end{bmatrix}$\n",
    "    $\\bar x$ and $ \\bar y$ : mean of x and y coordinates respectively\n",
    "    $D$ : list of distances from each point to $(\\bar x,\\bar y)$\n",
    "    $\\bar D$: mean of D\n",
    "    $s = \\frac{\\sqrt 2}{\\bar D}\\\\$\n",
    "\n",
    "2. Find $\\hat F$ from $A \\hat F = 0$\n",
    "\n",
    "   $A \\in \\mathbb{R}^{8 \\times 9}$, $\\hat F \\in \\mathbb{R}^{9}$\n",
    "\n",
    "3. Constraint Enforcement: Ensure that the rank($\\hat F$) = 2\n",
    "\n",
    "   $\\hat F = UDV^T$, $D = diag(r,s,t)$\n",
    "   $ \\hat F' = U diag(r,s,0) V^T$\n",
    "\n",
    "4. Denormalization: $F = T'^T \\hat F' T$"
   ],
   "metadata": {
    "collapsed": false
   }
  },
  {
   "cell_type": "code",
   "execution_count": 4,
   "outputs": [
    {
     "name": "stdout",
     "output_type": "stream",
     "text": [
      "Fundamental Matrix F: \n",
      "[[ 1.35574263e-10  7.36104078e-11 -6.86165608e-05]\n",
      " [ 1.82189401e-10 -3.61378824e-11 -1.30055509e-04]\n",
      " [ 4.19787748e-05  1.02180418e-04  1.00000000e+00]]\n"
     ]
    }
   ],
   "source": [
    "F = compute_F(x_points, x_prime_points)\n",
    "assert(np.linalg.matrix_rank(F) == 2)\n",
    "print(f'Fundamental Matrix F: \\n{F}')"
   ],
   "metadata": {
    "collapsed": false
   }
  },
  {
   "cell_type": "markdown",
   "source": [
    "### Estimate the Left and Right Epipoles\n",
    "$F\\vec e = 0$\n",
    "<br>\n",
    "$\\vec e'^T F = 0$\n",
    "\n",
    "$\\therefore \\vec e $ is the right null vector and $\\vec e'$ is the left null vector of $F$\n"
   ],
   "metadata": {
    "collapsed": false
   }
  },
  {
   "cell_type": "code",
   "execution_count": 5,
   "outputs": [
    {
     "name": "stdout",
     "output_type": "stream",
     "text": [
      "left epipole e: [ 6.58264939e+05 -2.80221557e+05  1.00000000e+00]\n",
      "right epipole e': [-1.09955053e+06  5.87805748e+05  1.00000000e+00]\n"
     ]
    }
   ],
   "source": [
    "e, e_prime = compute_e(F)\n",
    "print(f'left epipole e: {e}')\n",
    "print(f'right epipole e\\': {e_prime}')"
   ],
   "metadata": {
    "collapsed": false
   }
  },
  {
   "cell_type": "markdown",
   "source": [
    "### Obtain the Initial Estimate of the Projection Matrices in Canonical From\n",
    "$P =\n",
    "\\begin{bmatrix}\n",
    "1 & 0 & 0 & 0\\\\\n",
    "0 & 1 & 0 & 0\\\\\n",
    "0 & 0 & 1 & 0\\\\\n",
    "\\end{bmatrix}$\n",
    ";\n",
    "$P' =\n",
    "\\begin{bmatrix}\n",
    "[e']_x & F & |e'\\\\\n",
    "\\end{bmatrix}$\n",
    ";\n",
    "$[e']_x =\n",
    "\\begin{bmatrix}\n",
    "0 & -e'_3 & e'_2\\\\\n",
    "e'_3 & 0 & -e'_1\\\\\n",
    "-e'_2 & e'_1 & 0\\\\\n",
    "\\end{bmatrix}$"
   ],
   "metadata": {
    "collapsed": false
   }
  },
  {
   "cell_type": "code",
   "execution_count": 6,
   "outputs": [
    {
     "name": "stdout",
     "output_type": "stream",
     "text": [
      "P: \n",
      " [[1 0 0 0]\n",
      " [0 1 0 0]\n",
      " [0 0 1 0]]\n",
      "\n",
      "P': \n",
      " [[ 2.46753651e+01  6.00622368e+01  5.87805748e+05 -1.09955053e+06]\n",
      " [ 4.61577840e+01  1.12352532e+02  1.09955053e+06  5.87805748e+05]\n",
      " [-2.80017783e-04 -3.53319325e-06  1.83335812e+02  1.00000000e+00]]\n"
     ]
    }
   ],
   "source": [
    "P, P_prime = compute_P(e_prime, F)\n",
    "print(f'P: \\n {P}\\n')\n",
    "print(f'P\\': \\n {P_prime}')"
   ],
   "metadata": {
    "collapsed": false
   }
  },
  {
   "cell_type": "markdown",
   "source": [
    "### Perform Triangulation to find World Points from (x,x') correspondences\n",
    "$A \\vec X = \\vec 0 \\rightarrow\n",
    "\\begin{bmatrix}\n",
    "xP_3^T - P_1^T \\\\\n",
    "yP_3^T - P_2^T \\\\\n",
    "x'P'_3^T - P'_1^T \\\\\n",
    "y'P'_3^T - P'_2^T \\\\\n",
    "\\end{bmatrix}\n",
    "\\begin{bmatrix}\n",
    "X_x\\\\ X_y \\\\ X_z \\\\ X_w\\\\\n",
    "\\end{bmatrix} =\n",
    "\\begin{bmatrix}\n",
    "0 \\\\ 0 \\\\ 0 \\\\ 0\\\\\n",
    "\\end{bmatrix}$\n",
    "\n",
    "$A \\in \\mathbb{R}^{4 \\times 4}$ ; $X \\in \\mathbb{R}^{4}$\n",
    "\n",
    "$X$ is given by the smallest eigenvector of $A^TA$"
   ],
   "metadata": {
    "collapsed": false
   }
  },
  {
   "cell_type": "code",
   "execution_count": 7,
   "outputs": [
    {
     "name": "stdout",
     "output_type": "stream",
     "text": [
      "World Point 1: [-357284.32909888646, 326954.0579582923, -20.358602669401375]\n",
      "World Point 2: [-580460.4280951299, 460159.3828964455, -25.353510761309558]\n",
      "World Point 3: [-241474.83993563862, 232629.25928513843, -15.24171215893636]\n",
      "World Point 4: [-366956.46024573746, 310825.50747577107, -18.496589879343993]\n",
      "World Point 5: [-50811765.515655145, 24993675.94451429, -449.7800609342888]\n",
      "World Point 6: [-20838609.27581754, 10453084.059552195, -206.3857652243492]\n",
      "World Point 7: [-309616.9655737378, 306080.5769663117, -19.38672025250861]\n",
      "World Point 8: [-187689.93976001235, 201780.2074281931, -13.684626623203963]\n"
     ]
    }
   ],
   "source": [
    "world_points = [triangulate(P, P_prime, x_points[i], x_prime_points[i]) for i in range(len(x_points))]\n",
    "for i, wp in enumerate(world_points):\n",
    "    print(f'World Point {i+1}: {wp}')"
   ],
   "metadata": {
    "collapsed": false
   }
  },
  {
   "cell_type": "markdown",
   "source": [
    "### Refinement of P'\n",
    "* params contains p' and every 3-vector world point\n",
    "* cost function minimizes: $\\sum_i|| x_i - \\hat x_i||^2 + ||x'_i - \\hat x'_i||$ where $\\hat x$ are the world points reprojected into the respective image frames"
   ],
   "metadata": {
    "collapsed": false
   }
  },
  {
   "cell_type": "code",
   "execution_count": 8,
   "outputs": [],
   "source": [
    "'''pack p' into params'''\n",
    "params = np.zeros(12 + (3 * len(x_points)))\n",
    "params[0:12] = np.reshape(P_prime, 12)\n",
    "params[12:]=np.reshape(world_points,(3*len(x_points)))"
   ],
   "metadata": {
    "collapsed": false
   }
  },
  {
   "cell_type": "code",
   "execution_count": 9,
   "outputs": [
    {
     "name": "stdout",
     "output_type": "stream",
     "text": [
      "`ftol` termination condition is satisfied.\n",
      "Function evaluations 1824, initial cost 1.6001e+10, final cost 9.7667e+04, first-order optimality 1.74e+01.\n"
     ]
    }
   ],
   "source": [
    "optim = least_squares(cost_function, params, args=(x_points,x_prime_points), verbose =1)\n",
    "params_star = optim['x']"
   ],
   "metadata": {
    "collapsed": false
   }
  },
  {
   "cell_type": "code",
   "execution_count": 10,
   "outputs": [
    {
     "name": "stdout",
     "output_type": "stream",
     "text": [
      "Refined F: \n",
      "[[ 4.76284975e-06  1.15929854e-05  1.13387409e-01]\n",
      " [-2.54590433e-06 -6.19745956e-06 -6.07822061e-02]\n",
      " [ 4.19787748e-05  1.02180418e-04  1.00000000e+00]]\n",
      "P: \n",
      "[[1 0 0 0]\n",
      " [0 1 0 0]\n",
      " [0 0 1 0]]\n",
      "Refined P' \n",
      "[[-1.37840115e+07  2.34749810e+07  1.57294430e+07 -2.66047266e+07]\n",
      " [ 6.40307024e+06 -1.09037472e+07 -6.19440597e+06  1.40364794e+07]\n",
      " [-1.78831773e+04  3.04498331e+04  2.35542310e+04  3.86980920e+06]]\n",
      "Refined e': \n",
      " [-6.8749453  3.6271761  1.       ]\n"
     ]
    }
   ],
   "source": [
    "P_prime_ref = params_star[0:12]\n",
    "P_prime_ref = np.reshape(P_prime_ref, (3,4))\n",
    "\n",
    "t_ref = P_prime_ref[:,-1]\n",
    "t_ref_matrix = np.array([[0, -t_ref[2], t_ref[1]], [t_ref[2], 0, -t_ref[0]], [-t_ref[1], t_ref[0], 0]])\n",
    "F_ref = t_ref_matrix@P_prime[:,0:3]\n",
    "F_ref = F_ref / F_ref[-1,-1]\n",
    "_, e_prime_ref = compute_e(F_ref)\n",
    "print(f'Refined F: \\n{F_ref}')\n",
    "print(f'P: \\n{P}')\n",
    "print(f'Refined P\\' \\n{P_prime_ref}' )\n",
    "print(f'Refined e\\': \\n {e_prime_ref}')"
   ],
   "metadata": {
    "collapsed": false,
    "pycharm": {
     "name": "#%%\n"
    }
   }
  },
  {
   "cell_type": "markdown",
   "source": [
    "### Rectifying the Right Image\n",
    "1. Compute the Translation Matrix which sends the image center to origin\n",
    "\n",
    "    $T_1 = \\begin{bmatrix}\n",
    "    1 & 0 & -x_0\\\\\n",
    "    0 & 1 & -y_0\\\\\n",
    "    0 & 0 & 1\\\\\n",
    "    \\end{bmatrix}$\n",
    "\n",
    "    $(x_0, y_0)$ is the center of the right image\n",
    "2. Compute the Rotation Matrix which rotates the translated right epipole to $\\begin{bmatrix} f & 0 & 1 \\end{bmatrix}^T$\n",
    "\n",
    "    $R = \\begin{bmatrix}\n",
    "    \\cos{t} & -\\sin{t} & 0\\\\\n",
    "    \\sin{t} & \\cos{t} & 0\\\\\n",
    "    0 & 0 & 1\\\\\n",
    "    \\end{bmatrix}$\n",
    "\n",
    "3. Compute G Matrix which sends the epipole to $\\infty$\n",
    "\n",
    "    $G = \\begin{bmatrix}\n",
    "    1 & 0 & 0\\\\\n",
    "    0 & 1 & 0\\\\\n",
    "    -1/f & 0 & 1\\\\\n",
    "   \\end{bmatrix}$\n",
    "\n",
    "4. Compute the Translational Matrix which makes the upper left corner the orgin\n",
    "\n",
    "    $T_2 = \\begin{bmatrix}\n",
    "    1 & 0 & x_0\\\\\n",
    "    0 & 1 & y_0\\\\\n",
    "    0 & 0 & 1\\\\\n",
    "    \\end{bmatrix}$\n",
    "\n",
    "    $(x_0, y_0)$ is the center of the right image\n",
    "\n",
    "5. The homography that rectifies the right image is: $H' = T_2GRT$"
   ],
   "metadata": {
    "collapsed": false
   }
  },
  {
   "cell_type": "code",
   "execution_count": 11,
   "outputs": [
    {
     "name": "stdout",
     "output_type": "stream",
     "text": [
      "H': \n",
      " [[ 8.25954849e-02  6.05265637e-02  1.88171325e+02]\n",
      " [-5.37685087e-01  2.27529793e-01  3.74495890e+02]\n",
      " [-6.38480255e-04 -4.67882910e-04  1.00000000e+00]]\n",
      "f: \n",
      "633.362629943494\n"
     ]
    }
   ],
   "source": [
    "H_prime, f = get_H_prime(right_img, e_prime_ref)\n",
    "H_prime = H_prime / H_prime[-1,-1]\n",
    "print(f'H\\': \\n {H_prime}')\n",
    "print(f'f: \\n{f}')"
   ],
   "metadata": {
    "collapsed": false,
    "pycharm": {
     "name": "#%%\n"
    }
   }
  },
  {
   "cell_type": "markdown",
   "source": [
    "### Rectifying the Left Image\n",
    "1. Find $M = P'P^{\\dagger}$\n",
    "    Note: $P^{\\dagger}$ is the right pseudoinverse of P\n",
    "\n",
    "2. Set $H_0 = H'M$\n",
    "3. Transform points in both the left and right images i.e (x, x') using $H_0$ and H' such that:\n",
    "   $\\hat x = H_0 x$\n",
    "   $\\hat x' = H'x'$\n",
    "4. Then we use the transformed coordinates to set up a distance min problem to address the issue of scaling the left image to match up to the right image as follows:\n",
    "\n",
    "    $H_a = \\begin{bmatrix}\n",
    "    a & b & c\\\\\n",
    "    0 & 1 & 0\\\\\n",
    "    0 & 0 & 1\\\\\n",
    "    \\end{bmatrix}$\n",
    "\n",
    "    a, b, and c are determine by the min problem:\n",
    "    $min_{a,b,c}\\sum_i(a \\hat x_i + b \\hat y_i + c - \\hat x'_i)^2$\n",
    "\n",
    "    which simplifies to $min_x ||Ax-b||^2$\n",
    "\n",
    "    $A = \\begin{bmatrix}\n",
    "    \\hat x_1 & \\hat y_1 & 1\\\\\n",
    "    \\hat x_2 & \\hat y_2 & 1\\\\\n",
    "    \\dots & \\dots & \\dots\\\\\n",
    "    \\end{bmatrix}$\n",
    "\n",
    "    $b = \\begin{bmatrix}\n",
    "    \\hat x'_1\\\\\n",
    "    \\hat x'_2\\\\\n",
    "    \\dots\n",
    "    \\end{bmatrix}$\n",
    "\n",
    "5. The homography that rectifies the left image is: $H = H_a H_0$"
   ],
   "metadata": {
    "collapsed": false,
    "pycharm": {
     "name": "#%% md\n"
    }
   }
  },
  {
   "cell_type": "code",
   "execution_count": 12,
   "outputs": [
    {
     "name": "stdout",
     "output_type": "stream",
     "text": [
      "Ha: \n",
      "[[-3.46906770e+02  1.27441436e+02  1.41727875e+05]\n",
      " [ 0.00000000e+00  1.00000000e+00  0.00000000e+00]\n",
      " [ 0.00000000e+00  0.00000000e+00  1.00000000e+00]]\n",
      "H: \n",
      "[[-4.41449133e+02  7.00625027e+02  2.03658086e+04]\n",
      " [ 1.32311394e+02 -2.25462457e+02 -6.37394812e+01]\n",
      " [-7.36049802e-01  1.25312392e+00  1.00000000e+00]]\n",
      "H_0: \n",
      "[[-250.83215075  427.1139059   326.42492201]\n",
      " [ 132.31139379 -225.46245733  -63.73948117]\n",
      " [  -0.7360498     1.25312392    1.        ]]\n"
     ]
    }
   ],
   "source": [
    "H, H_0 = get_H(P, P_prime_ref, H_prime, x_points, x_prime_points)\n",
    "H = H / H[-1][-1]\n",
    "H_0 = H_0 / H_0[-1][-1]\n",
    "\n",
    "print(f'H: \\n{H}')\n",
    "print(f'H_0: \\n{H_0}')"
   ],
   "metadata": {
    "collapsed": false,
    "pycharm": {
     "name": "#%%\n"
    }
   }
  },
  {
   "cell_type": "code",
   "execution_count": 17,
   "outputs": [
    {
     "data": {
      "text/plain": "<Figure size 432x288 with 2 Axes>",
      "image/png": "[encoded data removed]"
     },
     "metadata": {
      "needs_background": "light"
     },
     "output_type": "display_data"
    }
   ],
   "source": [
    "w, h = 2500, 2000\n",
    "from matplotlib import pyplot as plt\n",
    "def rectification_plot (image1,image2,H, Hp, w, h, save_img_path):\n",
    "    rectified1 = cv2.warpPerspective(image1, Hp, (w, h))\n",
    "    rectified2 = cv2.warpPerspective(image2, (Hp), (w, h))\n",
    "    plt.figure()\n",
    "    plt.subplot(1, 2, 1)\n",
    "    plt.imshow(cv2.cvtColor(rectified1, cv2.COLOR_BGR2RGB))\n",
    "    plt.subplot(1, 2, 2)\n",
    "    plt.imshow(cv2.cvtColor(rectified2, cv2.COLOR_BGR2RGB))\n",
    "    plt.savefig(save_img_path,dpi=1200)\n",
    "    return rectified1 , rectified2\n",
    "\n",
    "# H =np.array([[-7.13781513e+00,  2.86260684e+01,  2.10576556e+02],\n",
    "#  [-1.28237139e+01 , 5.16282910e+01 , 3.74581045e+02],\n",
    "#  [-3.40561613e-02 , 1.36831769e-01,  1.00000000e+00]])\n",
    "# print(H)\n",
    "rec1, rec2 = rectification_plot(left_img, right_img, H, H_prime, w, h, '/Users/wang3450/Desktop/ECE661/test_hw09/test.jpg')"
   ],
   "metadata": {
    "collapsed": false,
    "pycharm": {
     "name": "#%%\n"
    }
   }
  },
  {
   "cell_type": "code",
   "execution_count": 14,
   "outputs": [],
   "source": [
    "# test = transformInputImage(left_img, H_prime)\n",
    "# cv2.imshow('test', test)\n",
    "# cv2.waitKey(0)\n",
    "# cv2.destroyAllWindows()\n"
   ],
   "metadata": {
    "collapsed": false,
    "pycharm": {
     "name": "#%%\n"
    }
   }
  }
 ],
 "metadata": {
  "kernelspec": {
   "display_name": "Python 3",
   "language": "python",
   "name": "python3"
  },
  "language_info": {
   "codemirror_mode": {
    "name": "ipython",
    "version": 2
   },
   "file_extension": ".py",
   "mimetype": "text/x-python",
   "name": "python",
   "nbconvert_exporter": "python",
   "pygments_lexer": "ipython2",
   "version": "2.7.6"
  }
 },
 "nbformat": 4,
 "nbformat_minor": 0
}