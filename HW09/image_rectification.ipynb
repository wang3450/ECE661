{
 "cells": [
  {
   "cell_type": "markdown",
   "source": [
    "# Image Rectification\n",
    "The goal of image rectificiation is to find the Homographies H and H' for the stereo images such that in the transformed image pai, the same world point appears on the same row."
   ],
   "metadata": {
    "collapsed": false
   }
  },
  {
   "cell_type": "markdown",
   "source": [
    "### Import Statements"
   ],
   "metadata": {
    "collapsed": false
   }
  },
  {
   "cell_type": "code",
   "execution_count": 1,
   "metadata": {
    "collapsed": true
   },
   "outputs": [],
   "source": [
    "import cv2\n",
    "import numpy as np\n",
    "from scipy.optimize import least_squares\n",
    "from image_rectification_helper import *"
   ]
  },
  {
   "cell_type": "markdown",
   "source": [
    "### Load Images"
   ],
   "metadata": {
    "collapsed": false
   }
  },
  {
   "cell_type": "code",
   "execution_count": 2,
   "outputs": [],
   "source": [
    "left_file_path = \"/home/jo_wang/Desktop/ECE661/HW09/input_images/left.jpg\"\n",
    "right_file_path = \"/home/jo_wang/Desktop/ECE661/HW09/input_images/right.jpg\"\n",
    "left_img = cv2.imread(left_file_path, 1)\n",
    "right_img = cv2.imread(right_file_path, 1)\n",
    "assert(left_img.shape == right_img.shape)"
   ],
   "metadata": {
    "collapsed": false
   }
  },
  {
   "cell_type": "markdown",
   "source": [
    "### Point Correspondences\n",
    "Purpose: Establish Point 8 point correspondences between left and right image\n",
    "* x_points (list): list of points in left image\n",
    "* x_points_prime (list): list of points in right image\n",
    "* Both lists look like this:\n",
    "[[x1,y1], [x2,y2], [x3,y3], ..., [x8,y8]]"
   ],
   "metadata": {
    "collapsed": false
   }
  },
  {
   "cell_type": "code",
   "execution_count": 3,
   "outputs": [],
   "source": [
    "point_corr_image  = np.hstack((left_img, right_img))\n",
    "width_adj = right_img.shape[1]\n",
    "x_points = [[722, 347], [690, 466], [820, 338], [785, 453], [284,487], [280, 463], [477, 191], [622,185]]\n",
    "x_prime_points = [[618,428], [599, 531], [750, 433], [717, 537], [265,457], [274,430], [505,182], [674,184]]\n",
    "rainbow = [(211, 0, 148), (130, 0, 75), (255, 0, 0), (0, 255, 0), (0, 255, 255), (0, 127, 255), (0, 0, 255), (0, 0, 0)]\n",
    "\n",
    "for i in range(len(x_points)):\n",
    "    left_point = tuple(x_points[i])\n",
    "    right_point = (x_prime_points[i][0] + width_adj, x_prime_points[i][1])\n",
    "    cv2.circle(point_corr_image, left_point, 4, rainbow[i], -1)\n",
    "    cv2.circle(point_corr_image, right_point, 4, rainbow[i], -1)\n",
    "    cv2.line(point_corr_image, left_point, right_point, rainbow[i], 1)\n",
    "\n",
    "# cv2.imwrite(\"point_correspondences.jpg\", point_corr_image)"
   ],
   "metadata": {
    "collapsed": false
   }
  },
  {
   "cell_type": "markdown",
   "source": [
    "### Normalized 8-point Algorithm for F\n",
    "Purpose: Given 8 image point correspondences (x, x'), determine the fundamental matrix F\n",
    "\n",
    "Algorithm:\n",
    "1. Normalization: Transform the image coordinates to: $\\hat x_i = Tx_i$ and $\\hat x'_i = T'x'_i$\n",
    "\n",
    "    T = $\\begin{bmatrix}\n",
    "            s & 0 & -s\\bar x\\\\\n",
    "            0 & s & -s\\bar y\\\\\n",
    "            0 & 0 & 1\\\\\n",
    "        \\end{bmatrix}$\n",
    "    $\\bar x$ and $ \\bar y$ : mean of x and y coordinates respectively\n",
    "    $D$ : list of distances from each point to $(\\bar x,\\bar y)$\n",
    "    $\\bar D$: mean of D\n",
    "    $s = \\frac{\\sqrt 2}{\\bar D}\\\\$\n",
    "\n",
    "2. Find $\\hat F$ from $A \\hat F = 0$\n",
    "\n",
    "   $A \\in \\mathbb{R}^{8 \\times 9}$, $\\hat F \\in \\mathbb{R}^{9}$\n",
    "\n",
    "3. Constraint Enforcement: Ensure that the rank($\\hat F$) = 2\n",
    "\n",
    "   $\\hat F = UDV^T$, $D = diag(r,s,t)$\n",
    "   $ \\hat F' = U diag(r,s,0) V^T$\n",
    "\n",
    "4. Denormalization: $F = T'^T \\hat F' T$"
   ],
   "metadata": {
    "collapsed": false
   }
  },
  {
   "cell_type": "code",
   "execution_count": 4,
   "outputs": [
    {
     "name": "stdout",
     "output_type": "stream",
     "text": [
      "Fundamental Matrix F: \n",
      "[[ 1.35574263e-10  7.36104078e-11 -6.86165608e-05]\n",
      " [ 1.82189401e-10 -3.61378824e-11 -1.30055509e-04]\n",
      " [ 4.19787748e-05  1.02180418e-04  1.00000000e+00]]\n"
     ]
    }
   ],
   "source": [
    "F = compute_F(x_points, x_prime_points)\n",
    "assert(np.linalg.matrix_rank(F) == 2)\n",
    "print(f'Fundamental Matrix F: \\n{F}')"
   ],
   "metadata": {
    "collapsed": false
   }
  },
  {
   "cell_type": "markdown",
   "source": [
    "### Estimate the Left and Right Epipoles\n",
    "$F\\vec e = 0$\n",
    "<br>\n",
    "$\\vec e'^T F = 0$\n",
    "\n",
    "$\\therefore \\vec e $ is the right null vector and $\\vec e'$ is the left null vector of $F$\n"
   ],
   "metadata": {
    "collapsed": false
   }
  },
  {
   "cell_type": "code",
   "execution_count": 5,
   "outputs": [
    {
     "name": "stdout",
     "output_type": "stream",
     "text": [
      "left epipole e: [ 6.58264939e+05 -2.80221557e+05  1.00000000e+00]\n",
      "right epipole e': [-1.09955053e+06  5.87805748e+05  1.00000000e+00]\n"
     ]
    }
   ],
   "source": [
    "e, e_prime = compute_e(F)\n",
    "print(f'left epipole e: {e}')\n",
    "print(f'right epipole e\\': {e_prime}')"
   ],
   "metadata": {
    "collapsed": false
   }
  },
  {
   "cell_type": "markdown",
   "source": [
    "### Obtain the Initial Estimate of the Projection Matrices in Canonical From\n",
    "$P =\n",
    "\\begin{bmatrix}\n",
    "1 & 0 & 0 & 0\\\\\n",
    "0 & 1 & 0 & 0\\\\\n",
    "0 & 0 & 1 & 0\\\\\n",
    "\\end{bmatrix}$\n",
    ";\n",
    "$P' =\n",
    "\\begin{bmatrix}\n",
    "[e']_x & F & |e'\\\\\n",
    "\\end{bmatrix}$\n",
    ";\n",
    "$[e']_x =\n",
    "\\begin{bmatrix}\n",
    "0 & -e'_3 & e'_2\\\\\n",
    "e'_3 & 0 & -e'_1\\\\\n",
    "-e'_2 & e'_1 & 0\\\\\n",
    "\\end{bmatrix}$"
   ],
   "metadata": {
    "collapsed": false
   }
  },
  {
   "cell_type": "code",
   "execution_count": 6,
   "outputs": [
    {
     "name": "stdout",
     "output_type": "stream",
     "text": [
      "P: \n",
      " [[1 0 0 0]\n",
      " [0 1 0 0]\n",
      " [0 0 1 0]]\n",
      "\n",
      "P': \n",
      " [[ 2.46753651e+01  6.00622368e+01  5.87805748e+05 -1.09955053e+06]\n",
      " [ 4.61577840e+01  1.12352532e+02  1.09955053e+06  5.87805748e+05]\n",
      " [-2.80017783e-04 -3.53319326e-06  1.83335812e+02  1.00000000e+00]]\n"
     ]
    }
   ],
   "source": [
    "P, P_prime = compute_P(e_prime, F)\n",
    "print(f'P: \\n {P}\\n')\n",
    "print(f'P\\': \\n {P_prime}')"
   ],
   "metadata": {
    "collapsed": false
   }
  },
  {
   "cell_type": "markdown",
   "source": [
    "### Perform Triangulation to find World Points from (x,x') correspondences\n",
    "$A \\vec X = \\vec 0 \\rightarrow\n",
    "\\begin{bmatrix}\n",
    "xP_3^T - P_1^T \\\\\n",
    "yP_3^T - P_2^T \\\\\n",
    "x'P'_3^T - P'_1^T \\\\\n",
    "y'P'_3^T - P'_2^T \\\\\n",
    "\\end{bmatrix}\n",
    "\\begin{bmatrix}\n",
    "X_x\\\\ X_y \\\\ X_z \\\\ X_w\\\\\n",
    "\\end{bmatrix} =\n",
    "\\begin{bmatrix}\n",
    "0 \\\\ 0 \\\\ 0 \\\\ 0\\\\\n",
    "\\end{bmatrix}$\n",
    "\n",
    "$A \\in \\mathbb{R}^{4 \\times 4}$ ; $X \\in \\mathbb{R}^{4}$\n",
    "\n",
    "$X$ is given by the smallest eigenvector of $A^TA$"
   ],
   "metadata": {
    "collapsed": false
   }
  },
  {
   "cell_type": "code",
   "execution_count": 7,
   "outputs": [
    {
     "name": "stdout",
     "output_type": "stream",
     "text": [
      "World Point 1: [-357284.3291963463, 326954.058014294, -20.358602671109526, 1.0]\n",
      "World Point 2: [-580460.4278204894, 460159.38277500507, -25.353510760489332, 1.0]\n",
      "World Point 3: [-241474.83994383493, 232629.25928583654, -15.24171215863109, 1.0]\n",
      "World Point 4: [-366956.459931239, 310825.50733233686, -18.49658987776036, 1.0]\n",
      "World Point 5: [-50811765.55687086, 24993675.945001416, -449.7800591048311, 1.0]\n",
      "World Point 6: [-20838609.43285766, 10453084.126112135, -206.3857654292736, 1.0]\n",
      "World Point 7: [-309616.9659592787, 306080.57713674544, -19.386720253667267, 1.0]\n",
      "World Point 8: [-187689.94004719067, 201780.20753089542, -13.684626621475692, 1.0]\n"
     ]
    }
   ],
   "source": [
    "world_points = [triangulate(P, P_prime, x_points[i], x_prime_points[i]) for i in range(len(x_points))]\n",
    "for i, wp in enumerate(world_points):\n",
    "    print(f'World Point {i+1}: {wp}')"
   ],
   "metadata": {
    "collapsed": false
   }
  },
  {
   "cell_type": "markdown",
   "source": [
    "### Refinement of P'\n",
    "Pack the necessary parameters into params\n",
    "* packing p'"
   ],
   "metadata": {
    "collapsed": false
   }
  },
  {
   "cell_type": "code",
   "execution_count": 8,
   "outputs": [
    {
     "name": "stdout",
     "output_type": "stream",
     "text": [
      "Params: \n",
      "[ 2.46753651e+01  6.00622368e+01  5.87805748e+05 -1.09955053e+06\n",
      "  4.61577840e+01  1.12352532e+02  1.09955053e+06  5.87805748e+05\n",
      " -2.80017783e-04 -3.53319326e-06  1.83335812e+02  1.00000000e+00]\n"
     ]
    }
   ],
   "source": [
    "'''pack p' into params'''\n",
    "params = np.zeros(12)\n",
    "params = np.reshape(P_prime, 12)\n",
    "print(f'Params: \\n{params}')"
   ],
   "metadata": {
    "collapsed": false
   }
  },
  {
   "cell_type": "code",
   "execution_count": 9,
   "outputs": [],
   "source": [
    "'''cost_function(params, x_points, x_prime_points)\n",
    "Input: params: list of parameters\n",
    "       x_points: [[x1,y1], ... [x8,y8]]\n",
    "       x_prime_points: [[x'1,y'1], ... [x'8,y'8]]\n",
    "Output: d^2_geom\n",
    "Purpose: Cost Function for LM'''\n",
    "def cost_function(params, x_points, x_prime_points, world_points):\n",
    "    P = np.array([[1, 0, 0, 0], [0, 1, 0, 0], [0, 0, 1, 0]])\n",
    "    P_prime = np.reshape(params, (3,4))\n",
    "\n",
    "    x_hat = [world2image(P, point) for point in world_points]\n",
    "    x_prime_hat = [world2image(P_prime, point) for point in world_points]\n",
    "\n",
    "    diff_x = np.subtract(x_points, x_hat)\n",
    "    diff_x_prime = np.subtract(x_prime_points, x_prime_hat)\n",
    "\n",
    "    cost = np.hstack((diff_x[:,0], diff_x[:,1], diff_x_prime[:,0], diff_x_prime[:,1]))\n",
    "    return cost"
   ],
   "metadata": {
    "collapsed": false
   }
  },
  {
   "cell_type": "code",
   "execution_count": 10,
   "outputs": [
    {
     "name": "stdout",
     "output_type": "stream",
     "text": [
      "`ftol` termination condition is satisfied.\n",
      "Function evaluations 14, initial cost 1.6001e+10, final cost 1.6001e+10, first-order optimality 6.72e+03.\n"
     ]
    }
   ],
   "source": [
    "optim = least_squares(cost_function, params, method='lm', args=(x_points,x_prime_points, world_points), verbose =1)\n",
    "params_star = optim['x']"
   ],
   "metadata": {
    "collapsed": false
   }
  }
 ],
 "metadata": {
  "kernelspec": {
   "display_name": "Python 3",
   "language": "python",
   "name": "python3"
  },
  "language_info": {
   "codemirror_mode": {
    "name": "ipython",
    "version": 2
   },
   "file_extension": ".py",
   "mimetype": "text/x-python",
   "name": "python",
   "nbconvert_exporter": "python",
   "pygments_lexer": "ipython2",
   "version": "2.7.6"
  }
 },
 "nbformat": 4,
 "nbformat_minor": 0
}
