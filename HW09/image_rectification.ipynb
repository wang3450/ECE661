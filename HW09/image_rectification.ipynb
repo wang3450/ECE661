{
 "cells": [
  {
   "cell_type": "markdown",
   "source": [
    "# Image Rectification\n",
    "The goal of image rectificiation is to find the Homographies H and H' for the stereo images such that in the transformed image pai, the same world point appears on the same row."
   ],
   "metadata": {
    "collapsed": false
   }
  },
  {
   "cell_type": "markdown",
   "source": [
    "### Import Statements"
   ],
   "metadata": {
    "collapsed": false
   }
  },
  {
   "cell_type": "code",
   "execution_count": 1,
   "metadata": {
    "collapsed": true
   },
   "outputs": [],
   "source": [
    "import cv2\n",
    "import numpy as np\n",
    "from image_rectification_helper import *"
   ]
  },
  {
   "cell_type": "markdown",
   "source": [
    "### Load Images"
   ],
   "metadata": {
    "collapsed": false
   }
  },
  {
   "cell_type": "code",
   "execution_count": 2,
   "outputs": [],
   "source": [
    "left_file_path = \"/home/jo_wang/Desktop/ECE661/HW09/input_images/left.jpg\"\n",
    "right_file_path = \"/home/jo_wang/Desktop/ECE661/HW09/input_images/right.jpg\"\n",
    "left_img = cv2.imread(left_file_path, 1)\n",
    "right_img = cv2.imread(right_file_path, 1)\n",
    "assert(left_img.shape == right_img.shape)"
   ],
   "metadata": {
    "collapsed": false
   }
  },
  {
   "cell_type": "markdown",
   "source": [
    "### Point Correspondences\n",
    "Purpose: Establish Point 8 point correspondences between left and right image\n",
    "* x_points (list): list of points in left image\n",
    "* x_points_prime (list): list of points in right image\n",
    "* Both lists look like this:\n",
    "[[x1,y1], [x2,y2], [x3,y3], ..., [x8,y8]]"
   ],
   "metadata": {
    "collapsed": false
   }
  },
  {
   "cell_type": "code",
   "execution_count": 3,
   "outputs": [],
   "source": [
    "point_corr_image  = np.hstack((left_img, right_img))\n",
    "width_adj = right_img.shape[1]\n",
    "x_points = [[722, 347], [690, 466], [820, 338], [785, 453], [284,487], [280, 463], [477, 191], [622,185]]\n",
    "x_prime_points = [[618,428], [599, 531], [750, 433], [717, 537], [265,457], [274,430], [505,182], [674,184]]\n",
    "rainbow = [(211, 0, 148), (130, 0, 75), (255, 0, 0), (0, 255, 0), (0, 255, 255), (0, 127, 255), (0, 0, 255), (0, 0, 0)]\n",
    "\n",
    "for i in range(len(x_points)):\n",
    "    left_point = tuple(x_points[i])\n",
    "    right_point = (x_prime_points[i][0] + width_adj, x_prime_points[i][1])\n",
    "    cv2.circle(point_corr_image, left_point, 4, rainbow[i], -1)\n",
    "    cv2.circle(point_corr_image, right_point, 4, rainbow[i], -1)\n",
    "    cv2.line(point_corr_image, left_point, right_point, rainbow[i], 1)\n",
    "\n",
    "# cv2.imwrite(\"point_correspondences.jpg\", point_corr_image)"
   ],
   "metadata": {
    "collapsed": false
   }
  },
  {
   "cell_type": "markdown",
   "source": [
    "### Normalized 8-point Algorithm for F\n",
    "Purpose: Given 8 image point correspondences (x, x'), determine the fundamental matrix F\n",
    "\n",
    "Algorithm:\n",
    "1. Normalization: Transform the image coordinates to: $\\hat x_i = Tx_i$ and $\\hat x'_i = T'x'_i$\n",
    "\n",
    "    T = $\\begin{bmatrix}\n",
    "            s & 0 & -s\\bar x\\\\\n",
    "            0 & s & -s\\bar y\\\\\n",
    "            0 & 0 & 1\\\\\n",
    "        \\end{bmatrix}$\n",
    "    $\\bar x$ and $ \\bar y$ : mean of x and y coordinates respectively\n",
    "    $D$ : list of distances from each point to $(\\bar x,\\bar y)$\n",
    "    $\\bar D$: mean of D\n",
    "    $s = \\frac{\\sqrt 2}{\\bar D}\\\\$\n",
    "\n",
    "2. Find $\\hat F$ from $A \\hat F = 0$\n",
    "\n",
    "   $A \\in \\mathbb{R}^{8 \\times 9}$, $\\hat F \\in \\mathbb{R}^{9}$\n",
    "\n",
    "3. Constraint Enforcement: Ensure that the rank($\\hat F$) = 2\n",
    "\n",
    "   $\\hat F = UDV^T$, $D = diag(r,s,t)$\n",
    "   $ \\hat F' = U diag(r,s,0) V^T$\n",
    "\n",
    "4. Denormalization: $F = T'^T \\hat F' T$"
   ],
   "metadata": {
    "collapsed": false
   }
  },
  {
   "cell_type": "code",
   "execution_count": 4,
   "outputs": [
    {
     "name": "stdout",
     "output_type": "stream",
     "text": [
      "[[ 1.39338093e-10  7.56539894e-11 -7.05215025e-05]\n",
      " [ 1.87247366e-10 -3.71411469e-11 -1.33666126e-04]\n",
      " [ 4.31441950e-05  1.05017163e-04  1.02776213e+00]]\n"
     ]
    }
   ],
   "source": [
    "f = compute_F(x_points, x_prime_points)\n",
    "print(f)"
   ],
   "metadata": {
    "collapsed": false
   }
  }
 ],
 "metadata": {
  "kernelspec": {
   "display_name": "Python 3",
   "language": "python",
   "name": "python3"
  },
  "language_info": {
   "codemirror_mode": {
    "name": "ipython",
    "version": 2
   },
   "file_extension": ".py",
   "mimetype": "text/x-python",
   "name": "python",
   "nbconvert_exporter": "python",
   "pygments_lexer": "ipython2",
   "version": "2.7.6"
  }
 },
 "nbformat": 4,
 "nbformat_minor": 0
}
