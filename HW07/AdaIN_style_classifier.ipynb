{
 "cells": [
  {
   "cell_type": "markdown",
   "source": [
    "# Adaptive Instance Normalization (adaIN) Style Classifier"
   ],
   "metadata": {
    "collapsed": false
   }
  },
  {
   "cell_type": "markdown",
   "source": [
    "### Import Statements"
   ],
   "metadata": {
    "collapsed": false
   }
  },
  {
   "cell_type": "code",
   "execution_count": 1,
   "metadata": {
    "collapsed": true
   },
   "outputs": [],
   "source": [
    "from style_classifier_helper import *\n",
    "from tqdm import tqdm\n",
    "import random\n",
    "from sklearn import svm\n",
    "from sklearn import metrics\n",
    "from sklearn.metrics import ConfusionMatrixDisplay"
   ]
  },
  {
   "cell_type": "markdown",
   "source": [
    "### Load Training and Testing Image Data\n",
    "* train_img_list is a list of all the training images stored as np.ndarry\n",
    "* train_label_list is a list of the labels for the training images\n",
    "* test_img_list is a list of all the testing images stored as np.ndarry\n",
    "* test_label_list is a list of the labels for the test images"
   ],
   "metadata": {
    "collapsed": false
   }
  },
  {
   "cell_type": "code",
   "execution_count": 2,
   "outputs": [],
   "source": [
    "training_directory = \"/home/jo_wang/Desktop/ECE661/HW07/data/training\"\n",
    "test_directory = \"/home/jo_wang/Desktop/ECE661/HW07/data/testing\"\n",
    "\n",
    "train_img_list, train_label_list = loadImages(training_directory)\n",
    "test_img_list, test_label_list = loadImages(test_directory)\n",
    "\n",
    "assert(len(train_img_list) == len(train_label_list))\n",
    "assert(len(test_img_list) == len(test_label_list))\n",
    "assert(len(train_img_list) == 920)\n",
    "assert(len(test_img_list) == 200)"
   ],
   "metadata": {
    "collapsed": false
   }
  },
  {
   "cell_type": "markdown",
   "source": [
    "### Obtain Feature Maps of all Training Images\n",
    "1. Create an instance of the VGG19 class\n",
    "2. Load the pre-trained weights\n",
    "3. Iterate across both the test and train data\n",
    "4. Extract feature map from the CNN\n",
    "5. Compute the gram matrix for each image and store in the respective list\n",
    "6. Display gram matrix plots for one image in each class"
   ],
   "metadata": {
    "collapsed": false
   }
  },
  {
   "cell_type": "code",
   "execution_count": 4,
   "outputs": [
    {
     "name": "stderr",
     "output_type": "stream",
     "text": [
      "100%|██████████| 920/920 [06:17<00:00,  2.44it/s]\n",
      "100%|██████████| 200/200 [01:19<00:00,  2.52it/s]\n"
     ]
    }
   ],
   "source": [
    "# Load the model and the provided pretrained weights\n",
    "vgg = VGG19()\n",
    "vgg.load_weights('/home/jo_wang/Desktop/ECE661/HW07/vgg_normalized.pth')\n",
    "\n",
    "train_extracted_feature = list()\n",
    "for i in tqdm(range(len(train_img_list))):\n",
    "    ft = vgg(train_img_list[i])\n",
    "    ft = np.resize(ft, (512, 256))\n",
    "    train_extracted_feature.append(ft)\n",
    "\n",
    "test_extracted_feature = list()\n",
    "for i in tqdm(range(len(test_img_list))):\n",
    "    ft = vgg(test_img_list[i])\n",
    "    ft = np.resize(ft, (512, 256))\n",
    "    test_extracted_feature.append(ft)\n",
    "\n",
    "assert(len(train_extracted_feature) == len(train_img_list))\n",
    "assert(len(test_extracted_feature) == len(test_img_list))\n"
   ],
   "metadata": {
    "collapsed": false
   }
  },
  {
   "cell_type": "markdown",
   "source": [
    "### Peform Adaptive Instance Normalization\n",
    "1). Compute the mean and standard deviation of each row in the extracted feature map\n",
    "2). Build a (920 x 1024) train and a (200 x 1024) test feature vector\n",
    "3). Fit an SVM model with the train feature vector\n",
    "4). Evaluate the SVM on the test feature vector\n",
    "5). Compute accuracy and display the confusion matrix"
   ],
   "metadata": {
    "collapsed": false
   }
  },
  {
   "cell_type": "code",
   "execution_count": 45,
   "outputs": [
    {
     "name": "stdout",
     "output_type": "stream",
     "text": [
      "Accuracy: 0.975\n"
     ]
    },
    {
     "data": {
      "text/plain": "<sklearn.metrics._plot.confusion_matrix.ConfusionMatrixDisplay at 0x7f2cf5ab0f10>"
     },
     "execution_count": 45,
     "metadata": {},
     "output_type": "execute_result"
    },
    {
     "data": {
      "text/plain": "<Figure size 640x480 with 2 Axes>",
      "image/png": "[encoded data removed]"
     },
     "metadata": {},
     "output_type": "display_data"
    }
   ],
   "source": [
    "train_features = np.zeros((1,1024))\n",
    "test_features = np.zeros((1,1024))\n",
    "\n",
    "for ft in train_extracted_feature:\n",
    "    mean = np.mean(ft, axis=1)\n",
    "    std = np.std(ft, axis=1)\n",
    "    temp = np.hstack((mean, std))\n",
    "    temp = np.reshape(temp, (1,1024))\n",
    "    train_features = np.vstack((train_features, temp))\n",
    "\n",
    "for ft in test_extracted_feature:\n",
    "    mean = np.mean(ft, axis=1)\n",
    "    std = np.std(ft, axis=1)\n",
    "    temp = np.hstack((mean, std))\n",
    "    temp = np.reshape(temp, (1,1024))\n",
    "    test_features = np.vstack((test_features, temp))\n",
    "\n",
    "assert(train_features[1:,:].shape == (920, 1024))\n",
    "assert(test_features[1:,:].shape == (200, 1024))\n",
    "\n",
    "clf = svm.SVC(decision_function_shape='ovo')\n",
    "clf.fit(train_features[1:,:], train_label_list)\n",
    "texture_predict = clf.predict(test_features[1:,:])\n",
    "print(\"Accuracy:\",metrics.accuracy_score(test_label_list, texture_predict))\n",
    "ConfusionMatrixDisplay.from_estimator(clf, test_features[1:,:], test_label_list)"
   ],
   "metadata": {
    "collapsed": false
   }
  }
 ],
 "metadata": {
  "kernelspec": {
   "display_name": "Python 3",
   "language": "python",
   "name": "python3"
  },
  "language_info": {
   "codemirror_mode": {
    "name": "ipython",
    "version": 2
   },
   "file_extension": ".py",
   "mimetype": "text/x-python",
   "name": "python",
   "nbconvert_exporter": "python",
   "pygments_lexer": "ipython2",
   "version": "2.7.6"
  }
 },
 "nbformat": 4,
 "nbformat_minor": 0
}
