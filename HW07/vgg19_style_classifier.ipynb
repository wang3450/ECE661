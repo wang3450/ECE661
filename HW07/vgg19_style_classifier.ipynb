{
 "cells": [
  {
   "cell_type": "markdown",
   "source": [
    "# VGG19 Based Style Classifier"
   ],
   "metadata": {
    "collapsed": false
   }
  },
  {
   "cell_type": "markdown",
   "source": [
    "### Import Statements"
   ],
   "metadata": {
    "collapsed": false
   }
  },
  {
   "cell_type": "code",
   "execution_count": 1,
   "metadata": {
    "collapsed": true
   },
   "outputs": [],
   "source": [
    "from style_classifier_helper import *\n",
    "from tqdm import tqdm\n",
    "import random\n",
    "from sklearn import svm\n",
    "from sklearn import metrics\n",
    "from sklearn.metrics import ConfusionMatrixDisplay"
   ]
  },
  {
   "cell_type": "markdown",
   "source": [
    "### Load Training and Testing Image Data\n",
    "* train_img_list is a list of all the training images stored as np.ndarry\n",
    "* train_label_list is a list of the labels for the training images\n",
    "* test_img_list is a list of all the testing images stored as np.ndarry\n",
    "* test_label_list is a list of the labels for the test images"
   ],
   "metadata": {
    "collapsed": false
   }
  },
  {
   "cell_type": "code",
   "execution_count": 2,
   "outputs": [],
   "source": [
    "training_directory = \"/home/jo_wang/Desktop/ECE661/HW07/data/training\"\n",
    "test_directory = \"/home/jo_wang/Desktop/ECE661/HW07/data/testing\"\n",
    "\n",
    "train_img_list, train_label_list = loadImages(training_directory)\n",
    "test_img_list, test_label_list = loadImages(test_directory)\n",
    "\n",
    "assert(len(train_img_list) == len(train_label_list))\n",
    "assert(len(test_img_list) == len(test_label_list))\n",
    "assert(len(train_img_list) == 920)\n",
    "assert(len(test_img_list) == 200)\n"
   ],
   "metadata": {
    "collapsed": false
   }
  },
  {
   "cell_type": "markdown",
   "source": [
    "### Obtain Feature Maps of all Training Images\n",
    "1. Create an instance of the VGG19 class\n",
    "2. Load the pre-trained weights\n",
    "3. Iterate across both the test and train data\n",
    "4. Extract feature map from the CNN\n",
    "5. Compute the gram matrix for each image and store in the respective list\n",
    "6. Display gram matrix plots for one image in each class"
   ],
   "metadata": {
    "collapsed": false
   }
  },
  {
   "cell_type": "code",
   "execution_count": 3,
   "outputs": [
    {
     "name": "stderr",
     "output_type": "stream",
     "text": [
      "100%|██████████| 920/920 [09:46<00:00,  1.57it/s]\n",
      "100%|██████████| 200/200 [02:07<00:00,  1.57it/s]\n"
     ]
    }
   ],
   "source": [
    "# Load the model and the provided pretrained weights\n",
    "vgg = VGG19()\n",
    "vgg.load_weights('/home/jo_wang/Desktop/ECE661/HW07/vgg_normalized.pth')\n",
    "\n",
    "train_gram_matrix = list()\n",
    "for i in tqdm(range(len(train_img_list))):\n",
    "    ft = vgg(train_img_list[i])\n",
    "    ft = np.resize(ft, (512, 256))\n",
    "    gram_matrix = ft@ft.T\n",
    "    train_gram_matrix.append(gram_matrix)\n",
    "\n",
    "test_gram_matrix = list()\n",
    "for i in tqdm(range(len(test_img_list))):\n",
    "    ft = vgg(test_img_list[i])\n",
    "    ft = np.resize(ft, (512, 256))\n",
    "    gram_matrix = ft@ft.T\n",
    "    test_gram_matrix.append(gram_matrix)\n",
    "\n",
    "assert(len(train_gram_matrix) == len(train_img_list))\n",
    "assert(len(test_gram_matrix) == len(test_img_list))"
   ],
   "metadata": {
    "collapsed": false
   }
  },
  {
   "cell_type": "markdown",
   "source": [
    "### Train Support Vector Machine\n",
    "1. For every image in the train and test data set, sample 1024 features randomly\n",
    "2. Build train and test features matrix\n",
    "    * train: (920 x 1024)\n",
    "    * test: (200 x 1024)\n",
    "3. Fit the SVM model with the train data\n",
    "4. Compute the accuracy on the test data\n",
    "5. Display the confusion matrix"
   ],
   "metadata": {
    "collapsed": false
   }
  },
  {
   "cell_type": "code",
   "execution_count": 4,
   "outputs": [
    {
     "name": "stderr",
     "output_type": "stream",
     "text": [
      "100%|██████████| 920/920 [00:23<00:00, 38.88it/s]\n",
      "100%|██████████| 200/200 [00:05<00:00, 38.44it/s]\n"
     ]
    },
    {
     "name": "stdout",
     "output_type": "stream",
     "text": [
      "Accuracy: 0.955\n"
     ]
    },
    {
     "data": {
      "text/plain": "<sklearn.metrics._plot.confusion_matrix.ConfusionMatrixDisplay at 0x7fd56050fb20>"
     },
     "execution_count": 4,
     "metadata": {},
     "output_type": "execute_result"
    },
    {
     "data": {
      "text/plain": "<Figure size 640x480 with 2 Axes>",
      "image/png": "[encoded data removed]"
     },
     "metadata": {},
     "output_type": "display_data"
    }
   ],
   "source": [
    "train_features = np.zeros((1,1024))\n",
    "test_features = np.zeros((1,1024))\n",
    "\n",
    "for gram in tqdm(train_gram_matrix):\n",
    "    random.seed(5283)\n",
    "    gram_as_list = gram.flatten().tolist()\n",
    "    sampled_features = random.sample(gram_as_list, 1024)\n",
    "    sampled_features = np.resize(sampled_features, (1,1024))\n",
    "    train_features = np.vstack((train_features, sampled_features))\n",
    "\n",
    "for gram in tqdm(test_gram_matrix):\n",
    "    random.seed(5283)\n",
    "    gram_as_list = gram.flatten().tolist()\n",
    "    sampled_features = random.sample(gram_as_list, 1024)\n",
    "    sampled_features = np.resize(sampled_features, (1,1024))\n",
    "    test_features = np.vstack((test_features, sampled_features))\n",
    "\n",
    "assert(train_features[1:,:].shape == (920, 1024))\n",
    "assert(test_features[1:,:].shape == (200, 1024))\n",
    "\n",
    "clf = svm.SVC(decision_function_shape='ovo')\n",
    "clf.fit(train_features[1:,:], train_label_list)\n",
    "texture_predict = clf.predict(test_features[1:,:])\n",
    "print(\"Accuracy:\",metrics.accuracy_score(test_label_list, texture_predict))\n",
    "ConfusionMatrixDisplay.from_estimator(clf, test_features[1:,:], test_label_list)"
   ],
   "metadata": {
    "collapsed": false
   }
  }
 ],
 "metadata": {
  "kernelspec": {
   "display_name": "Python 3",
   "language": "python",
   "name": "python3"
  },
  "language_info": {
   "codemirror_mode": {
    "name": "ipython",
    "version": 2
   },
   "file_extension": ".py",
   "mimetype": "text/x-python",
   "name": "python",
   "nbconvert_exporter": "python",
   "pygments_lexer": "ipython2",
   "version": "2.7.6"
  }
 },
 "nbformat": 4,
 "nbformat_minor": 0
}
