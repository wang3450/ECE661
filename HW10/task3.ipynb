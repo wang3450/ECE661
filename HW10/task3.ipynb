{
 "cells": [
  {
   "cell_type": "markdown",
   "source": [
    "# Viola - Jones Image Classifier"
   ],
   "metadata": {
    "collapsed": false
   }
  },
  {
   "cell_type": "markdown",
   "source": [
    "### Import Statements"
   ],
   "metadata": {
    "collapsed": false
   }
  },
  {
   "cell_type": "code",
   "execution_count": 1,
   "metadata": {
    "collapsed": true
   },
   "outputs": [],
   "source": [
    "import numpy as np\n",
    "import cv2\n",
    "import os\n",
    "from adaBoost import *"
   ]
  },
  {
   "cell_type": "markdown",
   "source": [
    "### Load the Train and Test Image Data\n",
    "imageSet.train [(img1, label), (img2, label), ... , (imgN, label)]\n",
    "imageSet.test  [(img1, label), (img2, label), ... , (imgN, label)]"
   ],
   "metadata": {
    "collapsed": false
   }
  },
  {
   "cell_type": "code",
   "execution_count": 2,
   "outputs": [],
   "source": [
    "car_dir = \"/Users/wang3450/Desktop/ECE661/HW10/CarDetection\"\n",
    "images = ImageSet(dir=car_dir)\n",
    "images.load_train()\n",
    "images.load_test()"
   ],
   "metadata": {
    "collapsed": false,
    "pycharm": {
     "name": "#%%\n"
    }
   }
  },
  {
   "cell_type": "code",
   "execution_count": 3,
   "outputs": [
    {
     "name": "stderr",
     "output_type": "stream",
     "text": [
      "100%|██████████| 1064/1064 [00:42<00:00, 24.91it/s]\n"
     ]
    },
    {
     "name": "stdout",
     "output_type": "stream",
     "text": [
      "Trained 1000 classifiers out of 1064\n",
      "Chose classifier: <adaBoost.WeakClassifier object at 0x7fd47e5ef910> with accuracy: 1916.000000 and alpha: 5.375882\n",
      "Trained 1000 classifiers out of 1064\n",
      "Chose classifier: <adaBoost.WeakClassifier object at 0x7fd47e646970> with accuracy: 923.000000 and alpha: 5.816235\n",
      "Trained 1000 classifiers out of 1064\n",
      "Chose classifier: <adaBoost.WeakClassifier object at 0x7fd47e5c9bb0> with accuracy: 1803.000000 and alpha: 7.406235\n",
      "Trained 1000 classifiers out of 1064\n",
      "Chose classifier: <adaBoost.WeakClassifier object at 0x7fd47e6660d0> with accuracy: 719.000000 and alpha: 11.573780\n",
      "Trained 1000 classifiers out of 1064\n",
      "Chose classifier: <adaBoost.WeakClassifier object at 0x7fd47e5cd9d0> with accuracy: 1768.000000 and alpha: 11.808647\n",
      "Trained 1000 classifiers out of 1064\n",
      "Chose classifier: <adaBoost.WeakClassifier object at 0x7fd47e621310> with accuracy: 913.000000 and alpha: 10.587501\n",
      "Trained 1000 classifiers out of 1064\n",
      "Chose classifier: <adaBoost.WeakClassifier object at 0x7fd47e5c98e0> with accuracy: 731.000000 and alpha: 7.227506\n",
      "Trained 1000 classifiers out of 1064\n",
      "Chose classifier: <adaBoost.WeakClassifier object at 0x7fd47e5d7cd0> with accuracy: 1737.000000 and alpha: 11.377048\n",
      "Trained 1000 classifiers out of 1064\n",
      "Chose classifier: <adaBoost.WeakClassifier object at 0x7fd47e5c99a0> with accuracy: 756.000000 and alpha: 9.304452\n",
      "Trained 1000 classifiers out of 1064\n",
      "Chose classifier: <adaBoost.WeakClassifier object at 0x7fd47e607f70> with accuracy: 1797.000000 and alpha: 13.393632\n"
     ]
    }
   ],
   "source": [
    "boost = AdaBoost(T=10)\n",
    "train_integral = boost.train(images.train, images.train_pos, images.train_neg)"
   ],
   "metadata": {
    "collapsed": false,
    "pycharm": {
     "name": "#%%\n"
    }
   }
  },
  {
   "cell_type": "code",
   "execution_count": 4,
   "outputs": [],
   "source": [
    "preds = list()\n",
    "actual = list()\n",
    "for img, label in images.train:\n",
    "    preds.append(boost.classify(img))\n",
    "    actual.append(label)"
   ],
   "metadata": {
    "collapsed": false,
    "pycharm": {
     "name": "#%%\n"
    }
   }
  },
  {
   "cell_type": "code",
   "execution_count": 16,
   "outputs": [
    {
     "name": "stdout",
     "output_type": "stream",
     "text": [
      "True Positive: 0.3704225352112676\n",
      "False Positive: 0.12343572241183162\n",
      "False Negative: 0.6295774647887324\n",
      "1.0\n"
     ]
    }
   ],
   "source": [
    "preds = np.array(preds)\n",
    "actual = np.array(actual)\n",
    "\n",
    "TP = (np.sum((preds == 1) & (actual == 1))) / images.train_pos\n",
    "FP = (np.sum((preds == 1) & (actual == 0))) / images.train_neg\n",
    "FN = (np.sum((preds == 0) & (actual == 1))) / images.train_pos\n",
    "\n",
    "print(f'True Positive: {TP}')\n",
    "print(f'False Positive: {FP}')\n",
    "print(f'False Negative: {FN}')\n",
    "\n",
    "print(FN + TP)\n",
    "\n"
   ],
   "metadata": {
    "collapsed": false,
    "pycharm": {
     "name": "#%%\n"
    }
   }
  }
 ],
 "metadata": {
  "kernelspec": {
   "display_name": "Python 3",
   "language": "python",
   "name": "python3"
  },
  "language_info": {
   "codemirror_mode": {
    "name": "ipython",
    "version": 2
   },
   "file_extension": ".py",
   "mimetype": "text/x-python",
   "name": "python",
   "nbconvert_exporter": "python",
   "pygments_lexer": "ipython2",
   "version": "2.7.6"
  }
 },
 "nbformat": 4,
 "nbformat_minor": 0
}
