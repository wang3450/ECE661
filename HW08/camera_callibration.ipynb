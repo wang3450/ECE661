{
 "cells": [
  {
   "cell_type": "markdown",
   "source": [
    "# Zhang's Algorithm For Camera Calibration"
   ],
   "metadata": {
    "collapsed": false,
    "pycharm": {
     "name": "#%% md\n"
    }
   }
  },
  {
   "cell_type": "markdown",
   "source": [
    "### Import Statements"
   ],
   "metadata": {
    "collapsed": false,
    "pycharm": {
     "name": "#%% md\n"
    }
   }
  },
  {
   "cell_type": "code",
   "execution_count": 3,
   "outputs": [],
   "source": [
    "import os\n",
    "from camera_callibration_helper import *\n",
    "import cv2\n",
    "import numpy as np\n",
    "from copy import deepcopy\n",
    "from tqdm import tqdm\n",
    "import warnings\n",
    "warnings.filterwarnings('ignore')\n"
   ],
   "metadata": {
    "collapsed": false,
    "pycharm": {
     "name": "#%%\n"
    }
   }
  },
  {
   "cell_type": "markdown",
   "source": [
    "### Load the Images\n",
    "* raw_img_list (list): list of 40 BGR input images\n",
    "* grey_img_list (list): list of 40 grey scale input images\n",
    "* img_labels (list): list of 40 image filenames (mainly for debugging)"
   ],
   "metadata": {
    "collapsed": false,
    "pycharm": {
     "name": "#%% md\n"
    }
   }
  },
  {
   "cell_type": "code",
   "execution_count": 4,
   "outputs": [
    {
     "name": "stdout",
     "output_type": "stream",
     "text": [
      "0 35 1 27\n"
     ]
    }
   ],
   "source": [
    "# given_data_path = 'C:\\\\Users\\jo_wang\\Desktop\\ECE661\\HW08\\Dataset1'\n",
    "given_data_path = \"/Users/wang3450/Desktop/ECE661/HW08/Dataset1\"\n",
    "raw_img_list, grey_img_list, img_labels = loadImages(given_data_path)\n",
    "assert(len(grey_img_list) == 40)\n",
    "assert(len(raw_img_list) == 40)\n",
    "assert(len(img_labels) == 40)\n",
    "\n",
    "x = img_labels.index('Pic_1.jpg')\n",
    "y = img_labels.index('Pic_5.jpg')\n",
    "z = img_labels.index('Pic_10.jpg')\n",
    "w = img_labels.index('Pic_34.jpg')\n",
    "\n",
    "print(x,y,z,w)"
   ],
   "metadata": {
    "collapsed": false,
    "pycharm": {
     "name": "#%%\n"
    }
   }
  },
  {
   "cell_type": "markdown",
   "source": [
    "### Apply Canny Edge Detector On Grey Scale Images\n",
    "* edge_img_list (list): list of edge maps from Canny"
   ],
   "metadata": {
    "collapsed": false,
    "pycharm": {
     "name": "#%% md\n"
    }
   }
  },
  {
   "cell_type": "code",
   "execution_count": 5,
   "outputs": [],
   "source": [
    "edge_img_list = performCanny(grey_img_list)\n",
    "assert(len(edge_img_list) == 40)"
   ],
   "metadata": {
    "collapsed": false,
    "pycharm": {
     "name": "#%%\n"
    }
   }
  },
  {
   "cell_type": "markdown",
   "source": [
    "### Apply Hough Transform To all the Images\n",
    "* hough_lines_list (list): list of 40 images after applying hough transform"
   ],
   "metadata": {
    "collapsed": false,
    "pycharm": {
     "name": "#%% md\n"
    }
   }
  },
  {
   "cell_type": "code",
   "execution_count": 6,
   "outputs": [],
   "source": [
    "hough_lines_list = performHoughTransform(edge_img_list)\n",
    "assert(len(hough_lines_list) == len(edge_img_list))"
   ],
   "metadata": {
    "collapsed": false,
    "pycharm": {
     "name": "#%%\n"
    }
   }
  },
  {
   "cell_type": "markdown",
   "source": [
    "### Get the corner points from selected images\n",
    "* all_corners (list): at each index, list of 80 corner points\n",
    "* the_chosen_one (list): index of images to use"
   ],
   "metadata": {
    "collapsed": false,
    "pycharm": {
     "name": "#%% md\n"
    }
   }
  },
  {
   "cell_type": "code",
   "execution_count": 7,
   "outputs": [
    {
     "name": "stdout",
     "output_type": "stream",
     "text": [
      "\n",
      "\n",
      "\n",
      "\n",
      "\n",
      "\n",
      "\n",
      "\n",
      "\n",
      "\n",
      "\n",
      "\n",
      "\n",
      "\n",
      "\n",
      "\n",
      "\n",
      "\n",
      "\n",
      "\n",
      "\n",
      "\n",
      "\n",
      "\n",
      "\n",
      "\n",
      "\n",
      "\n",
      "\n",
      "\n",
      "\n",
      "\n",
      "\n",
      "\n",
      "\n",
      "\n",
      "\n",
      "\n",
      "\n",
      "\n",
      "\n",
      "\n",
      "\n",
      "\n",
      "\n",
      "\n",
      "\n",
      "\n",
      "\n",
      "\n",
      "\n",
      "\n",
      "\n",
      "\n",
      "\n",
      "\n",
      "\n",
      "\n",
      "\n",
      "\n",
      "\n",
      "\n",
      "\n",
      "\n",
      "\n",
      "\n",
      "\n",
      "\n",
      "\n",
      "\n",
      "\n",
      "\n",
      "\n",
      "\n",
      "\n",
      "\n",
      "\n",
      "\n",
      "\n",
      "\n",
      "\n",
      "\n",
      "\n",
      "\n",
      "\n",
      "\n",
      "\n",
      "\n",
      "\n",
      "\n",
      "\n",
      "\n",
      "\n",
      "\n",
      "\n",
      "\n",
      "\n",
      "\n",
      "\n",
      "\n",
      "\n",
      "\n",
      "\n",
      "\n",
      "\n",
      "\n",
      "\n",
      "\n",
      "\n",
      "\n",
      "\n",
      "\n",
      "\n",
      "\n",
      "\n",
      "\n",
      "\n",
      "\n",
      "\n",
      "\n",
      "\n",
      "\n",
      "\n",
      "\n",
      "\n",
      "\n",
      "\n",
      "\n",
      "\n",
      "\n",
      "\n",
      "\n",
      "\n",
      "\n",
      "\n",
      "\n",
      "\n",
      "\n",
      "\n",
      "\n",
      "\n",
      "\n",
      "\n",
      "\n",
      "\n",
      "\n",
      "\n",
      "\n",
      "\n",
      "\n",
      "\n",
      "\n",
      "\n",
      "\n",
      "\n",
      "\n",
      "\n",
      "\n",
      "\n",
      "\n",
      "\n",
      "\n",
      "\n",
      "\n",
      "\n",
      "\n",
      "\n",
      "\n",
      "\n",
      "\n",
      "\n",
      "\n",
      "\n",
      "\n",
      "\n",
      "\n",
      "\n",
      "\n",
      "\n",
      "\n",
      "\n",
      "\n",
      "\n",
      "\n",
      "\n",
      "\n",
      "\n",
      "\n",
      "\n",
      "\n",
      "\n",
      "\n",
      "\n",
      "\n",
      "\n",
      "\n",
      "\n",
      "\n",
      "\n",
      "\n",
      "\n",
      "\n",
      "\n",
      "\n",
      "\n",
      "\n",
      "\n",
      "\n",
      "\n",
      "\n",
      "\n",
      "\n",
      "\n",
      "\n",
      "\n",
      "\n",
      "\n",
      "\n",
      "\n",
      "\n",
      "\n",
      "\n",
      "\n",
      "\n",
      "\n",
      "\n",
      "\n",
      "\n",
      "\n",
      "\n",
      "\n",
      "\n",
      "\n",
      "\n",
      "\n",
      "\n",
      "\n",
      "\n",
      "\n",
      "\n",
      "\n",
      "\n",
      "\n",
      "\n",
      "\n",
      "\n",
      "\n",
      "\n",
      "\n",
      "\n",
      "\n",
      "\n",
      "\n",
      "\n",
      "\n",
      "\n",
      "\n",
      "\n",
      "\n",
      "\n",
      "\n",
      "\n",
      "\n",
      "\n",
      "\n",
      "\n",
      "\n",
      "\n",
      "\n",
      "\n",
      "\n",
      "\n",
      "\n",
      "\n",
      "\n",
      "\n",
      "\n",
      "\n",
      "\n",
      "\n",
      "\n",
      "\n",
      "\n",
      "\n",
      "\n",
      "\n",
      "\n",
      "\n",
      "\n",
      "\n",
      "\n",
      "\n",
      "\n",
      "\n",
      "\n",
      "\n",
      "\n",
      "\n",
      "\n",
      "\n",
      "\n",
      "\n",
      "\n",
      "\n",
      "\n",
      "\n",
      "\n",
      "\n",
      "\n",
      "\n",
      "\n",
      "\n",
      "\n",
      "\n",
      "\n",
      "\n",
      "\n",
      "\n",
      "\n",
      "\n",
      "\n",
      "\n",
      "\n",
      "\n",
      "\n",
      "\n",
      "\n",
      "\n",
      "\n",
      "\n",
      "\n",
      "\n",
      "\n",
      "\n",
      "\n",
      "\n",
      "\n",
      "\n",
      "\n",
      "\n",
      "\n",
      "\n",
      "\n",
      "\n",
      "\n",
      "\n",
      "\n",
      "\n",
      "\n",
      "\n",
      "\n",
      "\n",
      "\n",
      "\n",
      "\n",
      "\n",
      "\n",
      "\n",
      "\n",
      "\n",
      "\n",
      "\n",
      "\n",
      "\n",
      "\n",
      "\n",
      "\n",
      "\n",
      "\n",
      "\n",
      "\n",
      "\n",
      "\n",
      "\n",
      "\n",
      "\n",
      "\n",
      "\n",
      "\n",
      "\n",
      "\n",
      "\n",
      "\n",
      "\n",
      "\n",
      "\n",
      "\n",
      "\n",
      "\n",
      "\n",
      "\n",
      "\n",
      "\n",
      "\n",
      "\n",
      "\n",
      "\n",
      "\n",
      "\n",
      "\n",
      "\n",
      "\n",
      "\n",
      "\n",
      "\n",
      "\n",
      "\n",
      "\n",
      "\n",
      "\n",
      "\n",
      "\n",
      "\n",
      "\n",
      "\n",
      "\n",
      "\n",
      "\n",
      "\n",
      "\n",
      "\n",
      "\n",
      "\n",
      "\n",
      "\n",
      "\n",
      "\n",
      "\n",
      "\n",
      "\n",
      "\n",
      "\n",
      "\n",
      "\n",
      "\n",
      "\n",
      "\n",
      "\n",
      "\n",
      "\n",
      "\n",
      "\n",
      "\n",
      "\n",
      "\n",
      "\n",
      "\n",
      "\n",
      "\n",
      "\n",
      "\n",
      "\n",
      "\n",
      "\n",
      "\n",
      "\n",
      "\n",
      "\n",
      "\n",
      "\n",
      "\n",
      "\n",
      "\n",
      "\n",
      "\n",
      "\n",
      "\n",
      "\n",
      "\n",
      "\n",
      "\n",
      "\n",
      "\n",
      "\n",
      "\n",
      "\n",
      "\n",
      "\n",
      "\n",
      "\n",
      "\n",
      "\n",
      "\n",
      "\n",
      "\n",
      "\n",
      "\n",
      "\n",
      "\n",
      "\n",
      "\n",
      "\n",
      "\n",
      "\n",
      "\n",
      "\n",
      "\n",
      "\n",
      "\n",
      "\n",
      "\n",
      "\n",
      "\n",
      "\n",
      "\n",
      "\n",
      "\n",
      "\n",
      "\n",
      "\n",
      "\n",
      "\n",
      "\n",
      "\n",
      "\n",
      "\n",
      "\n",
      "\n",
      "\n",
      "\n",
      "\n",
      "\n",
      "\n",
      "\n",
      "\n",
      "\n",
      "\n",
      "\n",
      "\n",
      "\n",
      "\n",
      "\n",
      "\n",
      "\n",
      "\n",
      "\n",
      "\n",
      "\n",
      "\n",
      "\n",
      "\n",
      "\n",
      "\n",
      "\n",
      "\n",
      "\n",
      "\n",
      "\n",
      "\n",
      "\n",
      "\n",
      "\n",
      "\n",
      "\n",
      "\n",
      "\n",
      "\n",
      "\n",
      "\n",
      "\n",
      "\n",
      "\n",
      "\n",
      "\n",
      "\n",
      "\n",
      "\n",
      "\n",
      "\n",
      "\n",
      "\n",
      "\n",
      "\n",
      "\n",
      "\n",
      "\n",
      "\n",
      "\n",
      "\n",
      "\n",
      "\n",
      "\n",
      "\n",
      "\n",
      "\n",
      "\n",
      "\n",
      "\n",
      "\n",
      "\n",
      "\n",
      "\n",
      "\n",
      "\n",
      "\n",
      "\n",
      "\n",
      "\n",
      "\n",
      "\n",
      "\n",
      "\n",
      "\n",
      "\n",
      "\n",
      "\n",
      "\n",
      "\n",
      "\n",
      "\n",
      "\n",
      "\n",
      "\n",
      "\n",
      "\n",
      "\n",
      "\n",
      "\n",
      "\n",
      "\n",
      "\n",
      "\n",
      "\n",
      "\n",
      "\n",
      "\n",
      "\n",
      "\n",
      "\n",
      "\n",
      "\n",
      "\n",
      "\n",
      "\n",
      "\n",
      "\n",
      "\n",
      "\n",
      "\n",
      "\n"
     ]
    }
   ],
   "source": [
    "the_chosen_one = [26, 33, 29, 34]\n",
    "\n",
    "\n",
    "all_corners = list()\n",
    "for i in the_chosen_one:\n",
    "    h_lines, v_lines = get_Horizontal_Vert_Lines(hough_lines_list[i])\n",
    "\n",
    "    v_lines = np.array(v_lines).reshape(-1,2)\n",
    "    h_lines = np.array(h_lines).reshape(-1,2)\n",
    "\n",
    "    img = deepcopy(raw_img_list[i])\n",
    "    corner_points = getCorners(v_lines, h_lines)\n",
    "    if len(corner_points) == 80:\n",
    "        all_corners.append(corner_points)\n",
    "\n",
    "    for j, point in enumerate(corner_points):\n",
    "        try:\n",
    "            img = cv2.circle(img, point, 3, (0, 0, 255), -1)\n",
    "            cv2.putText(img, str(j), (point[0]+5, point[1]-5), cv2.FONT_HERSHEY_SIMPLEX, 0.5, (0,255,0), 1)\n",
    "        except OverflowError:\n",
    "            pass\n",
    "\n",
    "    cv2.imwrite(f'points_{i}.jpg', img)"
   ],
   "metadata": {
    "collapsed": false,
    "pycharm": {
     "name": "#%%\n"
    }
   }
  },
  {
   "cell_type": "markdown",
   "source": [
    "### Get world point coordinates\n",
    "* world_points (list): list of 80 world point coordinates in sorted order"
   ],
   "metadata": {
    "collapsed": false,
    "pycharm": {
     "name": "#%% md\n"
    }
   }
  },
  {
   "cell_type": "code",
   "execution_count": 8,
   "outputs": [],
   "source": [
    "world_points = list()\n",
    "for i in range(0, 200, 20):\n",
    "    for j in range(0, 160, 20):\n",
    "        world_points.append([i,j])\n"
   ],
   "metadata": {
    "collapsed": false,
    "pycharm": {
     "name": "#%%\n"
    }
   }
  },
  {
   "cell_type": "markdown",
   "source": [
    "### Estimate Homographies between world points and all corners\n",
    "* all_homographies (list): list of 3x3 homographies relating world points to each image\n",
    "* DON'T DELETE THIS ONE CUZ THIS ONE IS URS"
   ],
   "metadata": {
    "collapsed": false,
    "pycharm": {
     "name": "#%% md\n"
    }
   }
  },
  {
   "cell_type": "code",
   "execution_count": 9,
   "outputs": [
    {
     "name": "stdout",
     "output_type": "stream",
     "text": [
      "[[-1.18451284e+00 -1.51213069e+00  2.84726154e+02]\n",
      " [-1.07731089e+00 -1.18668951e+00  2.44865333e+02]\n",
      " [-4.50345703e-03 -4.61161296e-03  1.00000000e+00]]\n"
     ]
    }
   ],
   "source": [
    "all_homographies = list()\n",
    "for corners in all_corners:\n",
    "    h = get_H(world_points, corners)\n",
    "    all_homographies.append(h)\n",
    "\n",
    "print(all_homographies[0])"
   ],
   "metadata": {
    "collapsed": false,
    "pycharm": {
     "name": "#%%\n"
    }
   }
  },
  {
   "cell_type": "markdown",
   "source": [
    "### Compute W"
   ],
   "metadata": {
    "collapsed": false,
    "pycharm": {
     "name": "#%% md\n"
    }
   }
  },
  {
   "cell_type": "code",
   "execution_count": 10,
   "outputs": [
    {
     "name": "stdout",
     "output_type": "stream",
     "text": [
      "[[ 2.10919769e-06 -7.56829608e-07 -4.47800064e-04]\n",
      " [-7.56829608e-07  1.49040061e-05 -3.47622150e-03]\n",
      " [-4.47800064e-04 -3.47622150e-03  9.99993858e-01]]\n"
     ]
    }
   ],
   "source": [
    "Big_V = np.zeros((1,6))\n",
    "for h in all_homographies:\n",
    "    r1 = get_V(i=1, j=2, h=h).T\n",
    "    r2 = get_V(i=1,j=1,h=h).T - get_V(i=2,j=2,h=h).T\n",
    "    Big_V = np.vstack((Big_V, r1))\n",
    "    Big_V = np.vstack((Big_V, r2))\n",
    "\n",
    "Big_V = Big_V[1:, :]\n",
    "\n",
    "u, s, vh = np.linalg.svd(Big_V)\n",
    "b = vh[-1]\n",
    "\n",
    "w = np.zeros((3,3))\n",
    "w[0][0] = b[0]\n",
    "w[0][1] = b[1]\n",
    "w[0][2] = b[3]\n",
    "w[1][0] = b[1]\n",
    "w[1][1] = b[2]\n",
    "w[1][2] = b[4]\n",
    "w[2][0] = b[3]\n",
    "w[2][1] = b[4]\n",
    "w[2][2] = b[5]\n",
    "\n",
    "print(w)\n"
   ],
   "metadata": {
    "collapsed": false,
    "pycharm": {
     "name": "#%%\n"
    }
   }
  },
  {
   "cell_type": "markdown",
   "source": [
    "### Compute Intrinsic Camera Parameters Matrix k"
   ],
   "metadata": {
    "collapsed": false
   }
  },
  {
   "cell_type": "code",
   "execution_count": 11,
   "outputs": [
    {
     "name": "stdout",
     "output_type": "stream",
     "text": [
      "[[ 21.41751991   2.91776497 301.49406846]\n",
      " [  0.           8.13147776 248.55069932]\n",
      " [  0.           0.           1.        ]]\n"
     ]
    }
   ],
   "source": [
    "y0 = ((w[0][1] * w[0][2]) - (w[0][0] * w[1][2])) / (w[0][0] * w[1][1] - w[0][1] ** 2)\n",
    "scale_lambda = w[2][2] - (w[0][2] ** 2 + y0 * (w[0][1] * w[0][2] - w[0][0] * w[1][2])) / w[0][0]\n",
    "a_x = np.sqrt((scale_lambda / w[0][0]))\n",
    "a_y = np.sqrt(((scale_lambda * w[0][0]) / (w[0][0] * w[1][1] - w[0][1] **2)))\n",
    "skew = (-1 * w[0][1] * (a_x ** 2) * a_y) / scale_lambda\n",
    "x0 = (skew * y0) / a_y - (w[0][2] * (a_x ** 2)) / scale_lambda\n",
    "\n",
    "k = np.zeros((3,3))\n",
    "k[0][0] = a_x\n",
    "k[0][1] = skew\n",
    "k[0][2] = x0\n",
    "k[1][1] = a_y\n",
    "k[1][2] = y0\n",
    "k[2][2] = 1\n",
    "\n",
    "print(k)"
   ],
   "metadata": {
    "collapsed": false,
    "pycharm": {
     "name": "#%%\n"
    }
   }
  },
  {
   "cell_type": "markdown",
   "source": [
    "### Compute Extrinsic Parameters"
   ],
   "metadata": {
    "collapsed": false
   }
  },
  {
   "cell_type": "code",
   "execution_count": 12,
   "outputs": [],
   "source": [
    "#the_chosen_one = [26, 33, 29, 34]\n",
    "\n",
    "def get_extrinsic(k, h):\n",
    "    zeta = 1 / np.linalg.norm(np.linalg.inv(k) @ h[:,0])\n",
    "\n",
    "    r1 = zeta * np.linalg.inv(k) @ h[:,0]\n",
    "    r2 = zeta * np.linalg.inv(k) @ h[:,1]\n",
    "    r3 = zeta * np.cross(r1,r2)\n",
    "    t = zeta * np.linalg.inv(k) @ h[:,2]\n",
    "\n",
    "    r1 = np.reshape(r1, (3,1))\n",
    "    r2 = np.reshape(r2, (3,1))\n",
    "    r3 = np.reshape(r3, (3,1))\n",
    "    t = np.reshape(t, (3,1))\n",
    "\n",
    "    R = np.hstack((r1,r2))\n",
    "    R = np.hstack((R, r3))\n",
    "    R = np.reshape(R, (3,3))\n",
    "\n",
    "    u, _, vh = np.linalg.svd(R)\n",
    "\n",
    "    R = u @ vh\n",
    "\n",
    "    return R, t\n",
    "\n",
    "all_rotations = list()\n",
    "all_translations = list()\n",
    "\n",
    "for homographies in all_homographies:\n",
    "    R, t = get_extrinsic(k, homographies)\n",
    "    all_rotations.append(R)\n",
    "    all_translations.append(t)\n",
    "\n",
    "assert(len(all_rotations) == len(all_translations))\n",
    "assert(len(all_rotations) == len(the_chosen_one))"
   ],
   "metadata": {
    "collapsed": false,
    "pycharm": {
     "name": "#%%\n"
    }
   }
  },
  {
   "cell_type": "markdown",
   "source": [
    "### Reproject the World Coordinates"
   ],
   "metadata": {
    "collapsed": false
   }
  },
  {
   "cell_type": "code",
   "execution_count": 13,
   "outputs": [
    {
     "ename": "IndexError",
     "evalue": "list index out of range",
     "output_type": "error",
     "traceback": [
      "\u001B[0;31m---------------------------------------------------------------------------\u001B[0m",
      "\u001B[0;31mIndexError\u001B[0m                                Traceback (most recent call last)",
      "Input \u001B[0;32mIn [13]\u001B[0m, in \u001B[0;36m<cell line: 10>\u001B[0;34m()\u001B[0m\n\u001B[1;32m      7\u001B[0m     P \u001B[38;5;241m=\u001B[39mnp\u001B[38;5;241m.\u001B[39marray([R[:,\u001B[38;5;241m0\u001B[39m]\u001B[38;5;241m.\u001B[39mT,R[:,\u001B[38;5;241m1\u001B[39m]\u001B[38;5;241m.\u001B[39mT,t\u001B[38;5;241m.\u001B[39mT])\n\u001B[1;32m      8\u001B[0m     \u001B[38;5;28mprint\u001B[39m(P\u001B[38;5;241m.\u001B[39mshape)\n\u001B[0;32m---> 10\u001B[0m reproject(raw_img_list[\u001B[38;5;241m26\u001B[39m], world_points, \u001B[43mall_corners\u001B[49m\u001B[43m[\u001B[49m\u001B[38;5;241;43m26\u001B[39;49m\u001B[43m]\u001B[49m, k, )\n",
      "\u001B[0;31mIndexError\u001B[0m: list index out of range"
     ]
    }
   ],
   "source": [
    "#the_chosen_one = [26, 33, 29, 34]\n",
    "def reproject(img, world_points, corners, k, r, t):\n",
    "    #1). build p\n",
    "    #2). apply p to world_points\n",
    "    #3). plot p@world_points\n",
    "\n",
    "    P =np.array([R[:,0].T,R[:,1].T,t.T])\n",
    "    print(P.shape)\n",
    "\n",
    "reproject(raw_img_list[26], world_points, all_corners[26], k, )"
   ],
   "metadata": {
    "collapsed": false,
    "pycharm": {
     "name": "#%%\n"
    }
   }
  },
  {
   "cell_type": "code",
   "execution_count": 16,
   "outputs": [],
   "source": [
    "def ReprojectPoints(img,world_coord,Corners,K,R,t):\n",
    "    \"\"\"\n",
    "    Input: img: colored image\n",
    "           world_coord: list of list of coordinates [[x1,y1],[x2,y2],...]\n",
    "           corners: list of list of original coordinates of corners [[x1,y1],[x2,y2],...]\n",
    "           K: Intrinsic parameter matrix 3x3\n",
    "           R: Rotation matrix for this image 3x3\n",
    "           t: translation vector for this image 3x1\n",
    "    Output: rep_img: img with reprojected points color image\n",
    "            mean_e mean of error using Euclidean distance\n",
    "            var_e: variance of error using Euclidena distance\n",
    "    \"\"\"\n",
    "    # convert world_coord to HC\n",
    "    X_hc= np.ones((len(world_coord),3))\n",
    "    X_hc[:,:-1]=np.array(world_coord)\n",
    "    X_hc=X_hc.T # hc coordinates as col vectors\n",
    "    # make camera projection matrix P\n",
    "    P= np.concatenate((R[:,:2],t), axis=1)\n",
    "\n",
    "    P=K@P\n",
    "    #find reprojected points\n",
    "    rep_pt_hc= P@X_hc\n",
    "    # convert to physical coordinates for plotting\n",
    "\n",
    "    rep_pt_hc = rep_pt_hc / rep_pt_hc[-1]\n",
    "    rep_pt= rep_pt_hc[0:2]# physical coordinates as col vectors\n",
    "    print(rep_pt.shape)\n",
    "    # find Euclidean distance error, mean and var\n",
    "\n",
    "    e=np.array(Corners).T-rep_pt\n",
    "    e=np.linalg.norm(e,axis=0)\n",
    "    mean_e=np.mean(e)\n",
    "    var_e=np.var(e)\n",
    "    # plot corners on image\n",
    "    rep_img=np.copy(img)\n",
    "    font = cv2.FONT_HERSHEY_SIMPLEX\n",
    "    for i in range(len(world_coord)):\n",
    "        rep_img=cv2.circle(img,(int(rep_pt[0,i]),int(rep_pt[1,i])),2,(0,0,255),-1)\n",
    "        # rep_img=cv2.circle(img,(int(Corners[i][0]),int(Corners[i][1])),2,(0,255,0),-1)\n",
    "        # rep_img=cv2.putText(img,str(i+1),(int(rep_pt[0,i]),int(rep_pt[1,i])), font,0.5,(255,0,0),1,cv2.LINE_AA)\n",
    "    return(rep_img,mean_e,var_e)"
   ],
   "metadata": {
    "collapsed": false,
    "pycharm": {
     "name": "#%%\n"
    }
   }
  },
  {
   "cell_type": "code",
   "execution_count": 17,
   "outputs": [
    {
     "name": "stdout",
     "output_type": "stream",
     "text": [
      "80\n"
     ]
    }
   ],
   "source": [
    "\n",
    "print(len(world_points))"
   ],
   "metadata": {
    "collapsed": false,
    "pycharm": {
     "name": "#%%\n"
    }
   }
  },
  {
   "cell_type": "code",
   "execution_count": 18,
   "outputs": [
    {
     "name": "stdout",
     "output_type": "stream",
     "text": [
      "(2, 80)\n"
     ]
    }
   ],
   "source": [
    "corner = [list(i) for i in all_corners[0]]\n",
    "\n",
    "rep_img, _, _ = ReprojectPoints(raw_img_list[26],world_points,corner,k,all_rotations[0],all_translations[0])\n",
    "\n",
    "cv2.imshow('test', rep_img)\n",
    "cv2.waitKey(0)\n",
    "cv2.destroyAllWindows()"
   ],
   "metadata": {
    "collapsed": false,
    "pycharm": {
     "name": "#%%\n"
    }
   }
  },
  {
   "cell_type": "markdown",
   "source": [],
   "metadata": {
    "collapsed": false
   }
  }
 ],
 "metadata": {
  "kernelspec": {
   "display_name": "Python 3",
   "language": "python",
   "name": "python3"
  },
  "language_info": {
   "codemirror_mode": {
    "name": "ipython",
    "version": 2
   },
   "file_extension": ".py",
   "mimetype": "text/x-python",
   "name": "python",
   "nbconvert_exporter": "python",
   "pygments_lexer": "ipython2",
   "version": "2.7.6"
  }
 },
 "nbformat": 4,
 "nbformat_minor": 0
}