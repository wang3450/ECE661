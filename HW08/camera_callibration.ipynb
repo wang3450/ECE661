{
 "cells": [
  {
   "cell_type": "markdown",
   "source": [
    "# Zhang's Algorithm For Camera Calibration"
   ],
   "metadata": {
    "collapsed": false
   }
  },
  {
   "cell_type": "markdown",
   "source": [
    "### Import Statements"
   ],
   "metadata": {
    "collapsed": false
   }
  },
  {
   "cell_type": "code",
   "execution_count": 1,
   "outputs": [],
   "source": [
    "import os\n",
    "from camera_callibration_helper import *\n",
    "import cv2\n",
    "import numpy as np\n"
   ],
   "metadata": {
    "collapsed": false
   }
  },
  {
   "cell_type": "markdown",
   "source": [
    "### Load the Images\n",
    "* grey_img_list (list): list of 40 grey scale input images"
   ],
   "metadata": {
    "collapsed": false
   }
  },
  {
   "cell_type": "code",
   "execution_count": 2,
   "outputs": [],
   "source": [
    "given_data_path = \"/home/jo_wang/Desktop/ECE661/HW08/Dataset1\"\n",
    "grey_img_list, _ = loadImages(given_data_path)\n",
    "assert(len(grey_img_list) == 40)"
   ],
   "metadata": {
    "collapsed": false
   }
  },
  {
   "cell_type": "markdown",
   "source": [
    "### Apply Canny Edge Detector On Grey Scale Images\n",
    "* edge_img_list (list): list of edge maps from Canny"
   ],
   "metadata": {
    "collapsed": false
   }
  },
  {
   "cell_type": "code",
   "execution_count": 4,
   "outputs": [],
   "source": [
    "edge_img_list = performCanny(grey_img_list)\n",
    "assert(len(edge_img_list) == 40)\n"
   ],
   "metadata": {
    "collapsed": false
   }
  }
 ],
 "metadata": {
  "kernelspec": {
   "display_name": "Python 3",
   "language": "python",
   "name": "python3"
  },
  "language_info": {
   "codemirror_mode": {
    "name": "ipython",
    "version": 2
   },
   "file_extension": ".py",
   "mimetype": "text/x-python",
   "name": "python",
   "nbconvert_exporter": "python",
   "pygments_lexer": "ipython2",
   "version": "2.7.6"
  }
 },
 "nbformat": 4,
 "nbformat_minor": 0
}
