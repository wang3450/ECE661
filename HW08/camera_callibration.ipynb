{
 "cells": [
  {
   "cell_type": "markdown",
   "source": [
    "# Zhang's Algorithm For Camera Calibration"
   ],
   "metadata": {
    "collapsed": false
   }
  },
  {
   "cell_type": "markdown",
   "source": [
    "### Import Statements"
   ],
   "metadata": {
    "collapsed": false
   }
  },
  {
   "cell_type": "code",
   "execution_count": 1,
   "outputs": [],
   "source": [
    "import os\n",
    "from camera_callibration_helper import *\n",
    "import cv2\n",
    "import numpy as np\n",
    "from sklearn.cluster import KMeans\n",
    "import matplotlib.pyplot as plt\n",
    "from copy import deepcopy"
   ],
   "metadata": {
    "collapsed": false
   }
  },
  {
   "cell_type": "markdown",
   "source": [
    "### Load the Images\n",
    "* raw_img_list (list): list of 40 BGR input images\n",
    "* grey_img_list (list): list of 40 grey scale input images"
   ],
   "metadata": {
    "collapsed": false
   }
  },
  {
   "cell_type": "code",
   "execution_count": 2,
   "outputs": [],
   "source": [
    "given_data_path = \"/home/jo_wang/Desktop/ECE661/HW08/Dataset1\"\n",
    "raw_img_list, grey_img_list = loadImages(given_data_path)\n",
    "assert(len(grey_img_list) == 40)\n",
    "assert(len(raw_img_list) == 40)"
   ],
   "metadata": {
    "collapsed": false
   }
  },
  {
   "cell_type": "markdown",
   "source": [
    "### Apply Canny Edge Detector On Grey Scale Images\n",
    "* edge_img_list (list): list of edge maps from Canny"
   ],
   "metadata": {
    "collapsed": false
   }
  },
  {
   "cell_type": "code",
   "execution_count": 3,
   "outputs": [],
   "source": [
    "edge_img_list = performCanny(grey_img_list)\n",
    "assert(len(edge_img_list) == 40)"
   ],
   "metadata": {
    "collapsed": false
   }
  },
  {
   "cell_type": "code",
   "execution_count": 4,
   "outputs": [],
   "source": [
    "hough_lines_list = performHoughTransform(edge_img_list)\n",
    "assert(len(hough_lines_list) == len(edge_img_list))"
   ],
   "metadata": {
    "collapsed": false
   }
  },
  {
   "cell_type": "code",
   "execution_count": 17,
   "outputs": [
    {
     "name": "stdout",
     "output_type": "stream",
     "text": [
      "(17, 2)\n",
      "[0 4 7 6 1 3 2 5 5 2 1 3 0 6 4 2 7]\n",
      "[5 8 4 7 3 0 2 6 1 9 4 2 0 5 6]\n"
     ]
    },
    {
     "data": {
      "text/plain": "True"
     },
     "execution_count": 17,
     "metadata": {},
     "output_type": "execute_result"
    }
   ],
   "source": [
    "h_lines, v_lines = get_Horizontal_Vert_Lines(hough_lines_list[33])\n",
    "\n",
    "v_lines = np.array(v_lines).reshape(-1,2)\n",
    "h_lines = np.array(h_lines).reshape(-1,2)\n",
    "\n",
    "x_intercept = list()\n",
    "for i in range(v_lines.shape[0]):\n",
    "    rho, theta = v_lines[i]\n",
    "    x_intercept.append(np.divide(rho, np.cos(theta)))\n",
    "\n",
    "y_intercept = list()\n",
    "for i in range(h_lines.shape[0]):\n",
    "    rho, theta = h_lines[i]\n",
    "    y_intercept.append(np.divide(rho, np.sin(theta)))\n",
    "\n",
    "\n",
    "assert(len(x_intercept) == len(v_lines))\n",
    "assert(len(y_intercept) == len(h_lines))\n",
    "\n",
    "kmeans_v_lines = KMeans(n_clusters=8, random_state=0).fit(np.array(x_intercept).reshape(-1,1))\n",
    "kmeans_h_lines = KMeans(n_clusters=10, random_state=0).fit(np.array(y_intercept).reshape(-1,1))\n",
    "\n",
    "v_clustered_lines = list()\n",
    "h_clustered_lines = list()\n",
    "\n",
    "for i in range(8):\n",
    "    v_clustered_lines.append(list(np.mean(v_lines[kmeans_v_lines.labels_ == i], axis=0)))\n",
    "\n",
    "for i in range(10):\n",
    "    h_clustered_lines.append(list(np.mean(h_lines[kmeans_h_lines.labels_ == i], axis=0)))\n",
    "\n",
    "v_lines_sorted = sorted(v_clustered_lines, key=lambda x: np.abs(x[0]/x[1]))\n",
    "h_lines_sorted = sorted(h_clustered_lines, key=lambda x: np.abs(x[0]/x[1]))\n",
    "\n",
    "\n",
    "corner_points = list()\n",
    "final_v_lines = list()\n",
    "final_h_lines = list()\n",
    "for v_line in v_lines_sorted:\n",
    "    v_rho, v_theta = v_line\n",
    "    v_HC = np.array([np.cos(v_theta), np.sin(v_theta), -v_rho])\n",
    "    final_h_lines.append(v_HC)\n",
    "    for h_line in h_lines_sorted:\n",
    "        h_rho, h_theta = h_line\n",
    "        h_HC = np.array([np.cos(h_theta), np.sin(h_theta), -h_rho])\n",
    "        if i == 1:\n",
    "            final_h_lines.append(h_HC)\n",
    "        point = np.cross(h_HC, v_HC)\n",
    "        point = point / point[-1]\n",
    "        corner_points.append(tuple(point[:2].astype('int')))\n",
    "\n",
    "img = deepcopy(raw_img_list[33])\n",
    "for i, point in enumerate(corner_points):\n",
    "    img = cv2.circle(img, point, 6, (0, 0, 255), -1)\n",
    "    cv2.putText(img, str(i), (point[0]-5, point[1]+5), cv2.FONT_HERSHEY_SIMPLEX, 0.5, (246,255,12), 1)\n",
    "\n",
    "cv2.imwrite(\"points.jpg\", img)\n",
    "\n",
    "\n",
    "\n",
    "\n"
   ],
   "metadata": {
    "collapsed": false
   }
  },
  {
   "cell_type": "code",
   "execution_count": 18,
   "outputs": [],
   "source": [
    "world_points = list()\n",
    "for i in range(0, 200, 20):\n",
    "    for j in range(0, 160, 20):\n",
    "        world_points.append([i,j])\n",
    "assert(len(world_points) == 80)"
   ],
   "metadata": {
    "collapsed": false
   }
  },
  {
   "cell_type": "code",
   "execution_count": null,
   "outputs": [],
   "source": [],
   "metadata": {
    "collapsed": false
   }
  }
 ],
 "metadata": {
  "kernelspec": {
   "display_name": "Python 3",
   "language": "python",
   "name": "python3"
  },
  "language_info": {
   "codemirror_mode": {
    "name": "ipython",
    "version": 2
   },
   "file_extension": ".py",
   "mimetype": "text/x-python",
   "name": "python",
   "nbconvert_exporter": "python",
   "pygments_lexer": "ipython2",
   "version": "2.7.6"
  }
 },
 "nbformat": 4,
 "nbformat_minor": 0
}
