{
 "cells": [
  {
   "cell_type": "markdown",
   "source": [
    "# Zhang's Algorithm For Camera Calibration"
   ],
   "metadata": {
    "collapsed": false
   }
  },
  {
   "cell_type": "markdown",
   "source": [
    "### Import Statements"
   ],
   "metadata": {
    "collapsed": false
   }
  },
  {
   "cell_type": "code",
   "execution_count": 1,
   "outputs": [],
   "source": [
    "import os\n",
    "from camera_callibration_helper import *\n",
    "import cv2\n",
    "import numpy as np\n",
    "from copy import deepcopy\n",
    "from tqdm import tqdm"
   ],
   "metadata": {
    "collapsed": false
   }
  },
  {
   "cell_type": "markdown",
   "source": [
    "### Load the Images\n",
    "* raw_img_list (list): list of 40 BGR input images\n",
    "* grey_img_list (list): list of 40 grey scale input images\n",
    "* img_labels (list): list of 40 image filenames (mainly for debugging)"
   ],
   "metadata": {
    "collapsed": false
   }
  },
  {
   "cell_type": "code",
   "execution_count": 2,
   "outputs": [],
   "source": [
    "given_data_path = \"/home/jo_wang/Desktop/ECE661/HW08/Dataset1\"\n",
    "raw_img_list, grey_img_list, img_labels = loadImages(given_data_path)\n",
    "assert(len(grey_img_list) == 40)\n",
    "assert(len(raw_img_list) == 40)\n",
    "assert(len(img_labels) == 40)"
   ],
   "metadata": {
    "collapsed": false
   }
  },
  {
   "cell_type": "markdown",
   "source": [
    "### Apply Canny Edge Detector On Grey Scale Images\n",
    "* edge_img_list (list): list of edge maps from Canny"
   ],
   "metadata": {
    "collapsed": false
   }
  },
  {
   "cell_type": "code",
   "execution_count": 3,
   "outputs": [],
   "source": [
    "edge_img_list = performCanny(grey_img_list)\n",
    "assert(len(edge_img_list) == 40)"
   ],
   "metadata": {
    "collapsed": false
   }
  },
  {
   "cell_type": "code",
   "execution_count": 4,
   "outputs": [],
   "source": [
    "hough_lines_list = performHoughTransform(edge_img_list)\n",
    "assert(len(hough_lines_list) == len(edge_img_list))"
   ],
   "metadata": {
    "collapsed": false
   }
  },
  {
   "cell_type": "code",
   "execution_count": 7,
   "outputs": [
    {
     "name": "stderr",
     "output_type": "stream",
     "text": [
      "  0%|          | 0/40 [00:00<?, ?it/s]"
     ]
    },
    {
     "name": "stdout",
     "output_type": "stream",
     "text": [
      "([[2.0, 1.5620697], [-52.0, 2.0769417], [159.33333, 1.0471975], [2.0, 1.5620697], [144.66667, 1.0471975], [1.5, 1.5620697], [2.5, 1.5620697], [1.5, 1.5620697]], [[193.0, 1.5620697], [400.5, 1.579523], [68.0, 1.553343], [279.5, 1.5620697], [150.0, 1.5620697], [361.66666, 1.5707964], [441.5, 1.579523], [236.5, 1.5620697], [107.5, 1.5620697], [319.0, 1.5707964]])\n"
     ]
    },
    {
     "name": "stderr",
     "output_type": "stream",
     "text": [
      "\n"
     ]
    },
    {
     "ename": "SystemError",
     "evalue": "new style getargs format but argument is not a tuple",
     "output_type": "error",
     "traceback": [
      "\u001B[0;31m---------------------------------------------------------------------------\u001B[0m",
      "\u001B[0;31mSystemError\u001B[0m                               Traceback (most recent call last)",
      "Input \u001B[0;32mIn [7]\u001B[0m, in \u001B[0;36m<cell line: 1>\u001B[0;34m()\u001B[0m\n\u001B[1;32m     12\u001B[0m \u001B[38;5;28;01mfor\u001B[39;00m i, point \u001B[38;5;129;01min\u001B[39;00m \u001B[38;5;28menumerate\u001B[39m(corner_points):\n\u001B[1;32m     13\u001B[0m     \u001B[38;5;28;01mtry\u001B[39;00m:\n\u001B[0;32m---> 14\u001B[0m         img \u001B[38;5;241m=\u001B[39m \u001B[43mcv2\u001B[49m\u001B[38;5;241;43m.\u001B[39;49m\u001B[43mcircle\u001B[49m\u001B[43m(\u001B[49m\u001B[43mimg\u001B[49m\u001B[43m,\u001B[49m\u001B[43m \u001B[49m\u001B[43mpoint\u001B[49m\u001B[43m,\u001B[49m\u001B[43m \u001B[49m\u001B[38;5;241;43m3\u001B[39;49m\u001B[43m,\u001B[49m\u001B[43m \u001B[49m\u001B[43m(\u001B[49m\u001B[38;5;241;43m0\u001B[39;49m\u001B[43m,\u001B[49m\u001B[43m \u001B[49m\u001B[38;5;241;43m0\u001B[39;49m\u001B[43m,\u001B[49m\u001B[43m \u001B[49m\u001B[38;5;241;43m255\u001B[39;49m\u001B[43m)\u001B[49m\u001B[43m,\u001B[49m\u001B[43m \u001B[49m\u001B[38;5;241;43m-\u001B[39;49m\u001B[38;5;241;43m1\u001B[39;49m\u001B[43m)\u001B[49m\n\u001B[1;32m     15\u001B[0m         cv2\u001B[38;5;241m.\u001B[39mputText(img, \u001B[38;5;28mstr\u001B[39m(i), (point[\u001B[38;5;241m0\u001B[39m]\u001B[38;5;241m+\u001B[39m\u001B[38;5;241m5\u001B[39m, point[\u001B[38;5;241m1\u001B[39m]\u001B[38;5;241m-\u001B[39m\u001B[38;5;241m5\u001B[39m), cv2\u001B[38;5;241m.\u001B[39mFONT_HERSHEY_SIMPLEX, \u001B[38;5;241m0.5\u001B[39m, (\u001B[38;5;241m0\u001B[39m,\u001B[38;5;241m0\u001B[39m,\u001B[38;5;241m0\u001B[39m), \u001B[38;5;241m1\u001B[39m)\n\u001B[1;32m     16\u001B[0m     \u001B[38;5;28;01mexcept\u001B[39;00m \u001B[38;5;167;01mOverflowError\u001B[39;00m:\n",
      "\u001B[0;31mSystemError\u001B[0m: new style getargs format but argument is not a tuple"
     ]
    }
   ],
   "source": [
    "for i in tqdm(range(40)):\n",
    "    i = 4\n",
    "\n",
    "    h_lines, v_lines = get_Horizontal_Vert_Lines(hough_lines_list[i])\n",
    "\n",
    "    v_lines = np.array(v_lines).reshape(-1,2)\n",
    "    h_lines = np.array(h_lines).reshape(-1,2)\n",
    "\n",
    "    corner_points = getCorners(v_lines, h_lines)\n",
    "    print(corner_points)\n",
    "    img = deepcopy(raw_img_list[i])\n",
    "    for i, point in enumerate(corner_points):\n",
    "        try:\n",
    "            img = cv2.circle(img, point, 3, (0, 0, 255), -1)\n",
    "            cv2.putText(img, str(i), (point[0]+5, point[1]-5), cv2.FONT_HERSHEY_SIMPLEX, 0.5, (0,0,0), 1)\n",
    "        except OverflowError:\n",
    "            pass\n",
    "    cv2.imshow('test',img)\n",
    "    cv2.waitKey(0)\n",
    "    cv2.destroyAllWindows()\n",
    "\n",
    "\n",
    "\n",
    "\n",
    "\n"
   ],
   "metadata": {
    "collapsed": false
   }
  },
  {
   "cell_type": "code",
   "execution_count": 15,
   "outputs": [
    {
     "name": "stdout",
     "output_type": "stream",
     "text": [
      "Pic_13.jpg\n",
      "[[2.0, 1.5620697], [-52.0, 2.0769417], [159.33333, 1.0471975], [2.0, 1.5620697], [144.66667, 1.0471975], [1.5, 1.5620697], [2.5, 1.5620697], [1.5, 1.5620697]]\n",
      "[[-2.0700000e+02  3.1241393e+00]\n",
      " [ 3.8200000e+02  0.0000000e+00]\n",
      " [-1.6500000e+02  3.1241393e+00]\n",
      " [-2.4900000e+02  3.1241393e+00]\n",
      " [-2.9100000e+02  3.1241393e+00]\n",
      " [ 2.1000000e+02  0.0000000e+00]\n",
      " [ 4.2400000e+02  0.0000000e+00]\n",
      " [-4.2100000e+02  3.1241393e+00]\n",
      " [-3.3500000e+02  3.1241393e+00]\n",
      " [ 4.6800000e+02  0.0000000e+00]\n",
      " [ 1.6800000e+02  0.0000000e+00]\n",
      " [ 2.9500000e+02  0.0000000e+00]\n",
      " [-3.7800000e+02  3.1241393e+00]\n",
      " [-4.6400000e+02  3.1241393e+00]\n",
      " [ 3.4000000e+02  0.0000000e+00]\n",
      " [ 4.3100000e+02  1.7453292e-02]\n",
      " [ 4.7400000e+02  1.7453292e-02]\n",
      " [ 2.5200000e+02  0.0000000e+00]\n",
      " [-1.5900000e+02  3.1066861e+00]]\n"
     ]
    }
   ],
   "source": [
    "print(img_labels[4])\n",
    "h_lines, v_lines = get_Horizontal_Vert_Lines(hough_lines_list[4])\n",
    "\n",
    "v_lines = np.array(v_lines).reshape(-1,2)\n",
    "h_lines = np.array(h_lines).reshape(-1,2)\n",
    "\n",
    "v_lines_sorted, h_lines_sorted = getCorners(v_lines, h_lines)\n",
    "\n",
    "print(v_lines_sorted)\n",
    "print(v_lines)\n",
    "for l in h_lines_sorted:\n",
    "    rho = l[0]\n",
    "    theta = l[1]\n",
    "    L = 1000 #np.sqrt(m**2 + n**2)\n",
    "    a = np.cos(theta)\n",
    "    b = np.sin(theta)\n",
    "    x0 = a*rho\n",
    "    y0 = b*rho\n",
    "    x1 = int(x0 + L*(-b))\n",
    "    y1 = int(y0 + L*(a))\n",
    "    x2 = int(x0 - L*(-b))\n",
    "    y2 = int(y0 - L*(a))\n",
    "    # print((x1,y1),(x2,y2))\n",
    "    cv2.line(raw_img_list[4],(x1,y1),(x2,y2),(0,0,255),2)\n",
    "cv2.imshow(\"test\", raw_img_list[4])\n",
    "cv2.waitKey(0)\n",
    "cv2.destroyAllWindows()"
   ],
   "metadata": {
    "collapsed": false
   }
  },
  {
   "cell_type": "code",
   "execution_count": null,
   "outputs": [],
   "source": [
    "world_points = list()\n",
    "for i in range(0, 200, 20):\n",
    "    for j in range(0, 160, 20):\n",
    "        world_points.append([i,j])\n",
    "assert(len(world_points) == 80)"
   ],
   "metadata": {
    "collapsed": false
   }
  },
  {
   "cell_type": "code",
   "execution_count": null,
   "outputs": [],
   "source": [],
   "metadata": {
    "collapsed": false
   }
  }
 ],
 "metadata": {
  "kernelspec": {
   "display_name": "Python 3",
   "language": "python",
   "name": "python3"
  },
  "language_info": {
   "codemirror_mode": {
    "name": "ipython",
    "version": 2
   },
   "file_extension": ".py",
   "mimetype": "text/x-python",
   "name": "python",
   "nbconvert_exporter": "python",
   "pygments_lexer": "ipython2",
   "version": "2.7.6"
  }
 },
 "nbformat": 4,
 "nbformat_minor": 0
}
