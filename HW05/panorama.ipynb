{
 "cells": [
  {
   "cell_type": "code",
   "execution_count": 1,
   "metadata": {
    "collapsed": true
   },
   "outputs": [
    {
     "ename": "ModuleNotFoundError",
     "evalue": "No module named 'ipympl'",
     "output_type": "error",
     "traceback": [
      "\u001B[0;31m---------------------------------------------------------------------------\u001B[0m",
      "\u001B[0;31mModuleNotFoundError\u001B[0m                       Traceback (most recent call last)",
      "Input \u001B[0;32mIn [1]\u001B[0m, in \u001B[0;36m<cell line: 3>\u001B[0;34m()\u001B[0m\n\u001B[1;32m      1\u001B[0m \u001B[38;5;28;01mimport\u001B[39;00m \u001B[38;5;21;01mcv2\u001B[39;00m\n\u001B[1;32m      2\u001B[0m \u001B[38;5;28;01mimport\u001B[39;00m \u001B[38;5;21;01mnumpy\u001B[39;00m \u001B[38;5;28;01mas\u001B[39;00m \u001B[38;5;21;01mnp\u001B[39;00m\n\u001B[0;32m----> 3\u001B[0m \u001B[43mget_ipython\u001B[49m\u001B[43m(\u001B[49m\u001B[43m)\u001B[49m\u001B[38;5;241;43m.\u001B[39;49m\u001B[43mrun_line_magic\u001B[49m\u001B[43m(\u001B[49m\u001B[38;5;124;43m'\u001B[39;49m\u001B[38;5;124;43mmatplotlib\u001B[39;49m\u001B[38;5;124;43m'\u001B[39;49m\u001B[43m,\u001B[49m\u001B[43m \u001B[49m\u001B[38;5;124;43m'\u001B[39;49m\u001B[38;5;124;43mipympl\u001B[39;49m\u001B[38;5;124;43m'\u001B[39;49m\u001B[43m)\u001B[49m\n\u001B[1;32m      4\u001B[0m \u001B[38;5;28;01mimport\u001B[39;00m \u001B[38;5;21;01mmatplotlib\u001B[39;00m\u001B[38;5;21;01m.\u001B[39;00m\u001B[38;5;21;01mpyplot\u001B[39;00m \u001B[38;5;28;01mas\u001B[39;00m \u001B[38;5;21;01mplt\u001B[39;00m\n\u001B[1;32m      5\u001B[0m \u001B[38;5;28;01mfrom\u001B[39;00m \u001B[38;5;21;01mpanorama_helper\u001B[39;00m \u001B[38;5;28;01mimport\u001B[39;00m \u001B[38;5;241m*\u001B[39m\n",
      "File \u001B[0;32m~/anaconda3/envs/ece661/lib/python3.8/site-packages/IPython/core/interactiveshell.py:2305\u001B[0m, in \u001B[0;36mInteractiveShell.run_line_magic\u001B[0;34m(self, magic_name, line, _stack_depth)\u001B[0m\n\u001B[1;32m   2303\u001B[0m     kwargs[\u001B[38;5;124m'\u001B[39m\u001B[38;5;124mlocal_ns\u001B[39m\u001B[38;5;124m'\u001B[39m] \u001B[38;5;241m=\u001B[39m \u001B[38;5;28mself\u001B[39m\u001B[38;5;241m.\u001B[39mget_local_scope(stack_depth)\n\u001B[1;32m   2304\u001B[0m \u001B[38;5;28;01mwith\u001B[39;00m \u001B[38;5;28mself\u001B[39m\u001B[38;5;241m.\u001B[39mbuiltin_trap:\n\u001B[0;32m-> 2305\u001B[0m     result \u001B[38;5;241m=\u001B[39m \u001B[43mfn\u001B[49m\u001B[43m(\u001B[49m\u001B[38;5;241;43m*\u001B[39;49m\u001B[43margs\u001B[49m\u001B[43m,\u001B[49m\u001B[43m \u001B[49m\u001B[38;5;241;43m*\u001B[39;49m\u001B[38;5;241;43m*\u001B[39;49m\u001B[43mkwargs\u001B[49m\u001B[43m)\u001B[49m\n\u001B[1;32m   2306\u001B[0m \u001B[38;5;28;01mreturn\u001B[39;00m result\n",
      "File \u001B[0;32m~/anaconda3/envs/ece661/lib/python3.8/site-packages/IPython/core/magics/pylab.py:99\u001B[0m, in \u001B[0;36mPylabMagics.matplotlib\u001B[0;34m(self, line)\u001B[0m\n\u001B[1;32m     97\u001B[0m     \u001B[38;5;28mprint\u001B[39m(\u001B[38;5;124m\"\u001B[39m\u001B[38;5;124mAvailable matplotlib backends: \u001B[39m\u001B[38;5;132;01m%s\u001B[39;00m\u001B[38;5;124m\"\u001B[39m \u001B[38;5;241m%\u001B[39m backends_list)\n\u001B[1;32m     98\u001B[0m \u001B[38;5;28;01melse\u001B[39;00m:\n\u001B[0;32m---> 99\u001B[0m     gui, backend \u001B[38;5;241m=\u001B[39m \u001B[38;5;28;43mself\u001B[39;49m\u001B[38;5;241;43m.\u001B[39;49m\u001B[43mshell\u001B[49m\u001B[38;5;241;43m.\u001B[39;49m\u001B[43menable_matplotlib\u001B[49m\u001B[43m(\u001B[49m\u001B[43margs\u001B[49m\u001B[38;5;241;43m.\u001B[39;49m\u001B[43mgui\u001B[49m\u001B[38;5;241;43m.\u001B[39;49m\u001B[43mlower\u001B[49m\u001B[43m(\u001B[49m\u001B[43m)\u001B[49m\u001B[43m \u001B[49m\u001B[38;5;28;43;01mif\u001B[39;49;00m\u001B[43m \u001B[49m\u001B[38;5;28;43misinstance\u001B[39;49m\u001B[43m(\u001B[49m\u001B[43margs\u001B[49m\u001B[38;5;241;43m.\u001B[39;49m\u001B[43mgui\u001B[49m\u001B[43m,\u001B[49m\u001B[43m \u001B[49m\u001B[38;5;28;43mstr\u001B[39;49m\u001B[43m)\u001B[49m\u001B[43m \u001B[49m\u001B[38;5;28;43;01melse\u001B[39;49;00m\u001B[43m \u001B[49m\u001B[43margs\u001B[49m\u001B[38;5;241;43m.\u001B[39;49m\u001B[43mgui\u001B[49m\u001B[43m)\u001B[49m\n\u001B[1;32m    100\u001B[0m     \u001B[38;5;28mself\u001B[39m\u001B[38;5;241m.\u001B[39m_show_matplotlib_backend(args\u001B[38;5;241m.\u001B[39mgui, backend)\n",
      "File \u001B[0;32m~/anaconda3/envs/ece661/lib/python3.8/site-packages/IPython/core/interactiveshell.py:3493\u001B[0m, in \u001B[0;36mInteractiveShell.enable_matplotlib\u001B[0;34m(self, gui)\u001B[0m\n\u001B[1;32m   3489\u001B[0m         \u001B[38;5;28mprint\u001B[39m(\u001B[38;5;124m'\u001B[39m\u001B[38;5;124mWarning: Cannot change to a different GUI toolkit: \u001B[39m\u001B[38;5;132;01m%s\u001B[39;00m\u001B[38;5;124m.\u001B[39m\u001B[38;5;124m'\u001B[39m\n\u001B[1;32m   3490\u001B[0m                 \u001B[38;5;124m'\u001B[39m\u001B[38;5;124m Using \u001B[39m\u001B[38;5;132;01m%s\u001B[39;00m\u001B[38;5;124m instead.\u001B[39m\u001B[38;5;124m'\u001B[39m \u001B[38;5;241m%\u001B[39m (gui, \u001B[38;5;28mself\u001B[39m\u001B[38;5;241m.\u001B[39mpylab_gui_select))\n\u001B[1;32m   3491\u001B[0m         gui, backend \u001B[38;5;241m=\u001B[39m pt\u001B[38;5;241m.\u001B[39mfind_gui_and_backend(\u001B[38;5;28mself\u001B[39m\u001B[38;5;241m.\u001B[39mpylab_gui_select)\n\u001B[0;32m-> 3493\u001B[0m \u001B[43mpt\u001B[49m\u001B[38;5;241;43m.\u001B[39;49m\u001B[43mactivate_matplotlib\u001B[49m\u001B[43m(\u001B[49m\u001B[43mbackend\u001B[49m\u001B[43m)\u001B[49m\n\u001B[1;32m   3494\u001B[0m configure_inline_support(\u001B[38;5;28mself\u001B[39m, backend)\n\u001B[1;32m   3496\u001B[0m \u001B[38;5;66;03m# Now we must activate the gui pylab wants to use, and fix %run to take\u001B[39;00m\n\u001B[1;32m   3497\u001B[0m \u001B[38;5;66;03m# plot updates into account\u001B[39;00m\n",
      "File \u001B[0;32m~/anaconda3/envs/ece661/lib/python3.8/site-packages/IPython/core/pylabtools.py:359\u001B[0m, in \u001B[0;36mactivate_matplotlib\u001B[0;34m(backend)\u001B[0m\n\u001B[1;32m    354\u001B[0m \u001B[38;5;66;03m# Due to circular imports, pyplot may be only partially initialised\u001B[39;00m\n\u001B[1;32m    355\u001B[0m \u001B[38;5;66;03m# when this function runs.\u001B[39;00m\n\u001B[1;32m    356\u001B[0m \u001B[38;5;66;03m# So avoid needing matplotlib attribute-lookup to access pyplot.\u001B[39;00m\n\u001B[1;32m    357\u001B[0m \u001B[38;5;28;01mfrom\u001B[39;00m \u001B[38;5;21;01mmatplotlib\u001B[39;00m \u001B[38;5;28;01mimport\u001B[39;00m pyplot \u001B[38;5;28;01mas\u001B[39;00m plt\n\u001B[0;32m--> 359\u001B[0m \u001B[43mplt\u001B[49m\u001B[38;5;241;43m.\u001B[39;49m\u001B[43mswitch_backend\u001B[49m\u001B[43m(\u001B[49m\u001B[43mbackend\u001B[49m\u001B[43m)\u001B[49m\n\u001B[1;32m    361\u001B[0m plt\u001B[38;5;241m.\u001B[39mshow\u001B[38;5;241m.\u001B[39m_needmain \u001B[38;5;241m=\u001B[39m \u001B[38;5;28;01mFalse\u001B[39;00m\n\u001B[1;32m    362\u001B[0m \u001B[38;5;66;03m# We need to detect at runtime whether show() is called by the user.\u001B[39;00m\n\u001B[1;32m    363\u001B[0m \u001B[38;5;66;03m# For this, we wrap it into a decorator which adds a 'called' flag.\u001B[39;00m\n",
      "File \u001B[0;32m~/anaconda3/envs/ece661/lib/python3.8/site-packages/matplotlib/pyplot.py:265\u001B[0m, in \u001B[0;36mswitch_backend\u001B[0;34m(newbackend)\u001B[0m\n\u001B[1;32m    262\u001B[0m         rcParamsOrig[\u001B[38;5;124m\"\u001B[39m\u001B[38;5;124mbackend\u001B[39m\u001B[38;5;124m\"\u001B[39m] \u001B[38;5;241m=\u001B[39m \u001B[38;5;124m\"\u001B[39m\u001B[38;5;124magg\u001B[39m\u001B[38;5;124m\"\u001B[39m\n\u001B[1;32m    263\u001B[0m         \u001B[38;5;28;01mreturn\u001B[39;00m\n\u001B[0;32m--> 265\u001B[0m backend_mod \u001B[38;5;241m=\u001B[39m \u001B[43mimportlib\u001B[49m\u001B[38;5;241;43m.\u001B[39;49m\u001B[43mimport_module\u001B[49m\u001B[43m(\u001B[49m\n\u001B[1;32m    266\u001B[0m \u001B[43m    \u001B[49m\u001B[43mcbook\u001B[49m\u001B[38;5;241;43m.\u001B[39;49m\u001B[43m_backend_module_name\u001B[49m\u001B[43m(\u001B[49m\u001B[43mnewbackend\u001B[49m\u001B[43m)\u001B[49m\u001B[43m)\u001B[49m\n\u001B[1;32m    268\u001B[0m required_framework \u001B[38;5;241m=\u001B[39m _get_required_interactive_framework(backend_mod)\n\u001B[1;32m    269\u001B[0m \u001B[38;5;28;01mif\u001B[39;00m required_framework \u001B[38;5;129;01mis\u001B[39;00m \u001B[38;5;129;01mnot\u001B[39;00m \u001B[38;5;28;01mNone\u001B[39;00m:\n",
      "File \u001B[0;32m~/anaconda3/envs/ece661/lib/python3.8/importlib/__init__.py:127\u001B[0m, in \u001B[0;36mimport_module\u001B[0;34m(name, package)\u001B[0m\n\u001B[1;32m    125\u001B[0m             \u001B[38;5;28;01mbreak\u001B[39;00m\n\u001B[1;32m    126\u001B[0m         level \u001B[38;5;241m+\u001B[39m\u001B[38;5;241m=\u001B[39m \u001B[38;5;241m1\u001B[39m\n\u001B[0;32m--> 127\u001B[0m \u001B[38;5;28;01mreturn\u001B[39;00m \u001B[43m_bootstrap\u001B[49m\u001B[38;5;241;43m.\u001B[39;49m\u001B[43m_gcd_import\u001B[49m\u001B[43m(\u001B[49m\u001B[43mname\u001B[49m\u001B[43m[\u001B[49m\u001B[43mlevel\u001B[49m\u001B[43m:\u001B[49m\u001B[43m]\u001B[49m\u001B[43m,\u001B[49m\u001B[43m \u001B[49m\u001B[43mpackage\u001B[49m\u001B[43m,\u001B[49m\u001B[43m \u001B[49m\u001B[43mlevel\u001B[49m\u001B[43m)\u001B[49m\n",
      "File \u001B[0;32m<frozen importlib._bootstrap>:1014\u001B[0m, in \u001B[0;36m_gcd_import\u001B[0;34m(name, package, level)\u001B[0m\n",
      "File \u001B[0;32m<frozen importlib._bootstrap>:991\u001B[0m, in \u001B[0;36m_find_and_load\u001B[0;34m(name, import_)\u001B[0m\n",
      "File \u001B[0;32m<frozen importlib._bootstrap>:961\u001B[0m, in \u001B[0;36m_find_and_load_unlocked\u001B[0;34m(name, import_)\u001B[0m\n",
      "File \u001B[0;32m<frozen importlib._bootstrap>:219\u001B[0m, in \u001B[0;36m_call_with_frames_removed\u001B[0;34m(f, *args, **kwds)\u001B[0m\n",
      "File \u001B[0;32m<frozen importlib._bootstrap>:1014\u001B[0m, in \u001B[0;36m_gcd_import\u001B[0;34m(name, package, level)\u001B[0m\n",
      "File \u001B[0;32m<frozen importlib._bootstrap>:991\u001B[0m, in \u001B[0;36m_find_and_load\u001B[0;34m(name, import_)\u001B[0m\n",
      "File \u001B[0;32m<frozen importlib._bootstrap>:973\u001B[0m, in \u001B[0;36m_find_and_load_unlocked\u001B[0;34m(name, import_)\u001B[0m\n",
      "\u001B[0;31mModuleNotFoundError\u001B[0m: No module named 'ipympl'"
     ]
    }
   ],
   "source": [
    "import cv2\n",
    "import numpy as np\n",
    "%matplotlib ipympl\n",
    "import matplotlib.pyplot as plt\n",
    "from panorama_helper import *"
   ]
  },
  {
   "cell_type": "markdown",
   "source": [
    "Load the Input Image Based on imageSet\n",
    "-given: given set of images\n",
    "-custom: custom set of images"
   ],
   "metadata": {
    "collapsed": false
   }
  },
  {
   "cell_type": "code",
   "execution_count": null,
   "outputs": [],
   "source": [
    "'''get the input image'''\n",
    "imageSet = \"given\"\n",
    "input_image_list_raw, input_image_list_grey = loadImages(imageSet)"
   ],
   "metadata": {
    "collapsed": false
   }
  },
  {
   "cell_type": "markdown",
   "source": [
    "Build list of Candidate Matches\n",
    "-candidate_matches_float: list of candidate matches in fp\n",
    "-candidate_matches_int: list of candidate matches in int\n",
    "-each index is a list of two points (tuples)'''"
   ],
   "metadata": {
    "collapsed": false
   }
  },
  {
   "cell_type": "code",
   "execution_count": null,
   "outputs": [],
   "source": [
    "'''candidate matches between img0, img1'''\n",
    "candidate_matches_float_01, candidate_matches_int_01 = getCandidateMatches(input_image_list_grey[0], input_image_list_grey[1])\n",
    "assert(len(candidate_matches_float_01) == len(candidate_matches_int_01))\n",
    "\n",
    "'''candidate matches between img1, img2'''\n",
    "candidate_matches_float_12, candidate_matches_int_12 = getCandidateMatches(input_image_list_grey[1], input_image_list_grey[2])\n",
    "assert (len(candidate_matches_float_12) == len(candidate_matches_int_12))\n",
    "\n",
    "'''candidate matches between img2, img3'''\n",
    "candidate_matches_float_23, candidate_matches_int_23 = getCandidateMatches(input_image_list_grey[2], input_image_list_grey[3])\n",
    "assert (len(candidate_matches_float_23) == len(candidate_matches_int_23))\n",
    "\n",
    "'''candidate matches between img3, img4'''\n",
    "candidate_matches_float_34, candidate_matches_int_34 = getCandidateMatches(input_image_list_grey[3], input_image_list_grey[4])\n",
    "assert (len(candidate_matches_float_34) == len(candidate_matches_int_34))"
   ],
   "metadata": {
    "collapsed": false
   }
  },
  {
   "cell_type": "markdown",
   "source": [
    "Get the best homography and best inlier set"
   ],
   "metadata": {
    "collapsed": false
   }
  },
  {
   "cell_type": "code",
   "execution_count": null,
   "outputs": [],
   "source": [
    "bestHomography_01, best_inlier_set_01 = performRANSAC(candidate_matches_float_01, candidate_matches_int_01)\n",
    "\n",
    "bestHomography_12, best_inlier_set_12 = performRANSAC(candidate_matches_float_12, candidate_matches_int_12)\n",
    "\n",
    "bestHomography_23, best_inlier_set_23 = performRANSAC(candidate_matches_float_23, candidate_matches_int_23)\n",
    "\n",
    "bestHomography_34, best_inlier_set_34 = performRANSAC(candidate_matches_float_34, candidate_matches_int_34)"
   ],
   "metadata": {
    "collapsed": false
   }
  },
  {
   "cell_type": "markdown",
   "source": [
    "Plot the Inlier Set For Each Adjacent Image"
   ],
   "metadata": {
    "collapsed": false
   }
  },
  {
   "cell_type": "code",
   "execution_count": null,
   "outputs": [],
   "source": [
    "rainbow = [(211, 0, 148), (130, 0, 75), (255, 0, 0), (0, 255, 0), (0, 255, 255), (0, 127, 255), (0, 0, 255)]\n",
    "\n",
    "'''Best Inlier and Outlier Set 01'''\n",
    "inlier_01 = np.concatenate((input_image_list_raw[0], input_image_list_raw[1]), axis=1)\n",
    "outlier_01 = deepcopy(inlier_01)\n",
    "candidate_match_all_01 = deepcopy(inlier_01)\n",
    "for pair in tqdm(candidate_matches_float_01):\n",
    "    x = pair[0]\n",
    "    x_prime = pair[1]\n",
    "    width = input_image_list_raw[0].shape[1]\n",
    "    p1 = (int(x[0]), int(x[1]))\n",
    "    p2 = (int(x_prime[0]) + width, int(x_prime[1]))\n",
    "    color = random.choice(rainbow)\n",
    "    if pair in best_inlier_set_01:\n",
    "        cv2.circle(inlier_01, p1, 4, color, -1)\n",
    "        cv2.circle(inlier_01, p2, 4, color, -1)\n",
    "        cv2.line(inlier_01, p1, p2, color, 1)\n",
    "    else:\n",
    "        cv2.circle(outlier_01, p1, 4, color, -1)\n",
    "        cv2.circle(outlier_01, p2, 4, color, -1)\n",
    "        cv2.line(outlier_01, p1, p2, color, 1)\n",
    "    cv2.circle(candidate_match_all_01, p1, 4, color, -1)\n",
    "    cv2.circle(candidate_match_all_01, p2, 4, color, -1)\n",
    "    cv2.line(candidate_match_all_01, p1, p2, color, 1)\n",
    "\n",
    "\n",
    "\n",
    "'''Best Inlier Set 12'''\n",
    "inlier_12 = np.concatenate((input_image_list_raw[1], input_image_list_raw[2]), axis=1)\n",
    "outlier_12 = deepcopy(inlier_12)\n",
    "candidate_match_all_12 = deepcopy(inlier_12)\n",
    "for pair in tqdm(candidate_matches_float_12):\n",
    "    x = pair[0]\n",
    "    x_prime = pair[1]\n",
    "    width = input_image_list_raw[1].shape[1]\n",
    "    p1 = (int(x[0]), int(x[1]))\n",
    "    p2 = (int(x_prime[0]) + width, int(x_prime[1]))\n",
    "    color = random.choice(rainbow)\n",
    "    if pair in best_inlier_set_12:\n",
    "        cv2.circle(inlier_12, p1, 4, color, -1)\n",
    "        cv2.circle(inlier_12, p2, 4, color, -1)\n",
    "        cv2.line(inlier_12, p1, p2, color, 1)\n",
    "    else:\n",
    "        cv2.circle(outlier_12, p1, 4, color, -1)\n",
    "        cv2.circle(outlier_12, p2, 4, color, -1)\n",
    "        cv2.line(outlier_12, p1, p2, color, 1)\n",
    "    cv2.circle(candidate_match_all_12, p1, 4, color, -1)\n",
    "    cv2.circle(candidate_match_all_12, p2, 4, color, -1)\n",
    "    cv2.line(candidate_match_all_12, p1, p2, color, 1)\n",
    "\n",
    "\n",
    "'''Best Inlier Set 23'''\n",
    "inlier_23 = np.concatenate((input_image_list_raw[2], input_image_list_raw[3]), axis=1)\n",
    "outlier_23 = deepcopy(inlier_23)\n",
    "candidate_match_all_23 = deepcopy(inlier_23)\n",
    "for pair in tqdm(candidate_matches_float_23):\n",
    "    x = pair[0]\n",
    "    x_prime = pair[1]\n",
    "    width = input_image_list_raw[2].shape[1]\n",
    "    p1 = (int(x[0]), int(x[1]))\n",
    "    p2 = (int(x_prime[0]) + width, int(x_prime[1]))\n",
    "    color = random.choice(rainbow)\n",
    "    if pair in best_inlier_set_23:\n",
    "        cv2.circle(inlier_23, p1, 4, color, -1)\n",
    "        cv2.circle(inlier_23, p2, 4, color, -1)\n",
    "        cv2.line(inlier_23, p1, p2, color, 1)\n",
    "    else:\n",
    "        cv2.circle(outlier_23, p1, 4, color, -1)\n",
    "        cv2.circle(outlier_23, p2, 4, color, -1)\n",
    "        cv2.line(outlier_23, p1, p2, color, 1)\n",
    "    cv2.circle(candidate_match_all_23, p1, 4, color, -1)\n",
    "    cv2.circle(candidate_match_all_23, p2, 4, color, -1)\n",
    "    cv2.line(candidate_match_all_23, p1, p2, color, 1)\n",
    "\n",
    "'''Best Inlier Set 34'''\n",
    "inlier_34 = np.concatenate((input_image_list_raw[3], input_image_list_raw[4]), axis=1)\n",
    "outlier_34 = deepcopy(inlier_34)\n",
    "candidate_match_all_34 = deepcopy(inlier_34)\n",
    "for pair in tqdm(candidate_matches_float_34):\n",
    "    x = pair[0]\n",
    "    x_prime = pair[1]\n",
    "    width = input_image_list_raw[3].shape[1]\n",
    "    p1 = (int(x[0]), int(x[1]))\n",
    "    p2 = (int(x_prime[0]) + width, int(x_prime[1]))\n",
    "    color = random.choice(rainbow)\n",
    "    if pair in best_inlier_set_34:\n",
    "        cv2.circle(inlier_34, p1, 4, color, -1)\n",
    "        cv2.circle(inlier_34, p2, 4, color, -1)\n",
    "        cv2.line(inlier_34, p1, p2, color, 1)\n",
    "    else:\n",
    "        cv2.circle(outlier_34, p1, 4, color, -1)\n",
    "        cv2.circle(outlier_34, p2, 4, color, -1)\n",
    "        cv2.line(outlier_34, p1, p2, color, 1)\n",
    "    cv2.circle(candidate_match_all_34, p1, 4, color, -1)\n",
    "    cv2.circle(candidate_match_all_34, p2, 4, color, -1)\n",
    "    cv2.line(candidate_match_all_34, p1, p2, color, 1)\n",
    "\n",
    "'''Inliers and Outliers For Image 01'''\n",
    "cv2.imwrite(f\"/Users/wang3450/Desktop/ECE661/HW05/{imageSet}_inliers_01.jpg\", inlier_01)\n",
    "cv2.imwrite(f\"/Users/wang3450/Desktop/ECE661/HW05/{imageSet}_outlier_01.jpg\", outlier_01)\n",
    "\n",
    "'''Inliers and Outliers For Image 12'''\n",
    "cv2.imwrite(f\"/Users/wang3450/Desktop/ECE661/HW05/{imageSet}_inliers_12.jpg\", inlier_12)\n",
    "cv2.imwrite(f\"/Users/wang3450/Desktop/ECE661/HW05/{imageSet}_outlier_12.jpg\", outlier_12)\n",
    "\n",
    "'''Inliers and Outliers For Image 23'''\n",
    "cv2.imwrite(f\"/Users/wang3450/Desktop/ECE661/HW05/{imageSet}_inliers_23.jpg\", inlier_23)\n",
    "cv2.imwrite(f\"/Users/wang3450/Desktop/ECE661/HW05/{imageSet}_outlier_23.jpg\", outlier_23)\n",
    "\n",
    "'''Inliers and Outliers For Image 34'''\n",
    "cv2.imwrite(f\"/Users/wang3450/Desktop/ECE661/HW05/{imageSet}_inliers_34.jpg\", inlier_34)\n",
    "cv2.imwrite(f\"/Users/wang3450/Desktop/ECE661/HW05/{imageSet}_outlier_34.jpg\", outlier_34)\n",
    "\n",
    "'''All Correspondences Found By Sift'''\n",
    "cv2.imwrite(f\"/Users/wang3450/Desktop/ECE661/HW05/{imageSet}_all_correspondences_01.jpg\", candidate_match_all_01)\n",
    "cv2.imwrite(f\"/Users/wang3450/Desktop/ECE661/HW05/{imageSet}_all_correspondences_12.jpg\", candidate_match_all_12)\n",
    "cv2.imwrite(f\"/Users/wang3450/Desktop/ECE661/HW05/{imageSet}_all_correspondences_23.jpg\", candidate_match_all_23)\n",
    "cv2.imwrite(f\"/Users/wang3450/Desktop/ECE661/HW05/{imageSet}_all_correspondences_34.jpg\", candidate_match_all_34)"
   ],
   "metadata": {
    "collapsed": false
   }
  },
  {
   "cell_type": "markdown",
   "source": [],
   "metadata": {
    "collapsed": false
   }
  },
  {
   "cell_type": "markdown",
   "source": [
    "Stitch all the images together into a Panorama"
   ],
   "metadata": {
    "collapsed": false
   }
  },
  {
   "cell_type": "code",
   "execution_count": null,
   "outputs": [],
   "source": [
    "list_best_homography = [bestHomography_01,\n",
    "                        bestHomography_12,\n",
    "                        bestHomography_23,\n",
    "                        bestHomography_34]\n",
    "\n",
    "panorama = getPanorama(list_best_homography, input_image_list_raw)\n",
    "cv2.imwrite(f\"/Users/wang3450/Desktop/ECE661/HW05/{imageSet}_panorama.jpg\", panorama)\n",
    "\n",
    "list_lm_homographies = [performLM(bestHomography_01, best_inlier_set_01),\n",
    "                        performLM(bestHomography_12, best_inlier_set_12),\n",
    "                        performLM(bestHomography_23, best_inlier_set_23),\n",
    "                        performLM(bestHomography_34, best_inlier_set_34)]\n",
    "\n",
    "lm_panorama = getPanorama(list_lm_homographies, input_image_list_raw)\n",
    "cv2.imwrite(f\"/Users/wang3450/Desktop/ECE661/HW05/{imageSet}_lm_panorama.jpg\", lm_panorama)\n"
   ],
   "metadata": {
    "collapsed": false
   }
  },
  {
   "cell_type": "code",
   "execution_count": null,
   "outputs": [],
   "source": [],
   "metadata": {
    "collapsed": false
   }
  }
 ],
 "metadata": {
  "kernelspec": {
   "display_name": "Python 3",
   "language": "python",
   "name": "python3"
  },
  "language_info": {
   "codemirror_mode": {
    "name": "ipython",
    "version": 2
   },
   "file_extension": ".py",
   "mimetype": "text/x-python",
   "name": "python",
   "nbconvert_exporter": "python",
   "pygments_lexer": "ipython2",
   "version": "2.7.6"
  }
 },
 "nbformat": 4,
 "nbformat_minor": 0
}
