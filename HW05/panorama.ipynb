{
 "cells": [
  {
   "cell_type": "code",
   "execution_count": 8,
   "metadata": {
    "collapsed": true
   },
   "outputs": [
    {
     "name": "stdout",
     "output_type": "stream",
     "text": [
      "The autoreload extension is already loaded. To reload it, use:\n",
      "  %reload_ext autoreload\n"
     ]
    }
   ],
   "source": [
    "import cv2\n",
    "import numpy as np\n",
    "import math\n",
    "import sys\n",
    "from tqdm import tqdm\n",
    "from copy import deepcopy\n",
    "import random\n",
    "%load_ext autoreload\n",
    "%autoreload 2\n",
    "from panorama_helper import *"
   ]
  },
  {
   "cell_type": "markdown",
   "source": [
    "Load the Input Image\n",
    "-given: given set of images\n",
    "-custom: custom set of images"
   ],
   "metadata": {
    "collapsed": false
   }
  },
  {
   "cell_type": "code",
   "execution_count": 9,
   "outputs": [],
   "source": [
    "'''get the input image'''\n",
    "imageSet = \"given\"\n",
    "input_image_list_raw, input_image_list_grey = loadImages(imageSet)"
   ],
   "metadata": {
    "collapsed": false,
    "pycharm": {
     "name": "#%%\n"
    }
   }
  },
  {
   "cell_type": "markdown",
   "source": [
    "Build list of Candidate Matches\n",
    "-candidate_matches_float: list of candidate matches in fp\n",
    "-candidate_matches_int: list of candidate matches in int\n",
    "-each index is a list of two points (tuples)'''"
   ],
   "metadata": {
    "collapsed": false
   }
  },
  {
   "cell_type": "code",
   "execution_count": 10,
   "outputs": [],
   "source": [
    "'''candidate matches between img0, img1'''\n",
    "candidate_matches_float_01, candidate_matches_int_01 = getCandidateMatches(input_image_list_grey[0], input_image_list_grey[1])\n",
    "assert(len(candidate_matches_float_01) == len(candidate_matches_int_01))\n",
    "\n",
    "'''candidate matches between img1, img2'''\n",
    "candidate_matches_float_12, candidate_matches_int_12 = getCandidateMatches(input_image_list_grey[1], input_image_list_grey[2])\n",
    "assert (len(candidate_matches_float_12) == len(candidate_matches_int_12))\n",
    "\n",
    "'''candidate matches between img2, img3'''\n",
    "candidate_matches_float_23, candidate_matches_int_23 = getCandidateMatches(input_image_list_grey[2], input_image_list_grey[3])\n",
    "assert (len(candidate_matches_float_23) == len(candidate_matches_int_23))\n",
    "\n",
    "'''candidate matches between img3, img4'''\n",
    "candidate_matches_float_34, candidate_matches_int_34 = getCandidateMatches(input_image_list_grey[3], input_image_list_grey[4])\n",
    "assert (len(candidate_matches_float_34) == len(candidate_matches_int_34))"
   ],
   "metadata": {
    "collapsed": false,
    "pycharm": {
     "name": "#%%\n"
    }
   }
  },
  {
   "cell_type": "markdown",
   "source": [
    "Get the best homography and best inlier set"
   ],
   "metadata": {
    "collapsed": false
   }
  },
  {
   "cell_type": "code",
   "execution_count": 11,
   "outputs": [
    {
     "name": "stderr",
     "output_type": "stream",
     "text": [
      "100%|██████████| 1000/1000 [00:20<00:00, 48.24it/s]\n",
      "100%|██████████| 1000/1000 [00:35<00:00, 27.93it/s]\n",
      "100%|██████████| 1000/1000 [00:25<00:00, 39.33it/s]\n",
      "100%|██████████| 1000/1000 [00:28<00:00, 35.20it/s]\n"
     ]
    }
   ],
   "source": [
    "bestHomography_01, best_inlier_set_01 = performRANSAC(candidate_matches_float_01, candidate_matches_int_01)\n",
    "\n",
    "bestHomography_12, best_inlier_set_12 = performRANSAC(candidate_matches_float_12, candidate_matches_int_12)\n",
    "\n",
    "bestHomography_23, best_inlier_set_23 = performRANSAC(candidate_matches_float_23, candidate_matches_int_23)\n",
    "\n",
    "bestHomography_34, best_inlier_set_34 = performRANSAC(candidate_matches_float_34, candidate_matches_int_34)"
   ],
   "metadata": {
    "collapsed": false,
    "pycharm": {
     "name": "#%%\n"
    }
   }
  },
  {
   "cell_type": "markdown",
   "source": [
    "Plot the Inlier Set For Each Adjacent Image"
   ],
   "metadata": {
    "collapsed": false
   }
  },
  {
   "cell_type": "code",
   "execution_count": 12,
   "outputs": [
    {
     "name": "stderr",
     "output_type": "stream",
     "text": [
      "100%|██████████| 2161/2161 [00:00<00:00, 17295.75it/s]\n",
      "100%|██████████| 2173/2173 [00:00<00:00, 18819.06it/s]\n",
      "100%|██████████| 2829/2829 [00:00<00:00, 12700.69it/s]\n",
      "100%|██████████| 3166/3166 [00:00<00:00, 12981.01it/s]\n"
     ]
    },
    {
     "data": {
      "text/plain": "True"
     },
     "execution_count": 12,
     "metadata": {},
     "output_type": "execute_result"
    }
   ],
   "source": [
    "rainbow = [(211, 0, 148), (130, 0, 75), (255, 0, 0), (0, 255, 0), (0, 255, 255), (0, 127, 255), (0, 0, 255)]\n",
    "\n",
    "'''Best Inlier and Outlier Set 01'''\n",
    "inlier_01 = np.concatenate((input_image_list_raw[0], input_image_list_raw[1]), axis=1)\n",
    "outlier_01 = deepcopy(inlier_01)\n",
    "for pair in tqdm(candidate_matches_float_01):\n",
    "    x = pair[0]\n",
    "    x_prime = pair[1]\n",
    "    width = input_image_list_raw[0].shape[1]\n",
    "    p1 = (int(x[0]), int(x[1]))\n",
    "    p2 = (int(x_prime[0]) + width, int(x_prime[1]))\n",
    "    color = random.choice(rainbow)\n",
    "    if pair in best_inlier_set_01:\n",
    "        cv2.circle(inlier_01, p1, 4, color, -1)\n",
    "        cv2.circle(inlier_01, p2, 4, color, -1)\n",
    "        cv2.line(inlier_01, p1, p2, color, 1)\n",
    "    else:\n",
    "        cv2.circle(outlier_01, p1, 4, color, -1)\n",
    "        cv2.circle(outlier_01, p2, 4, color, -1)\n",
    "        cv2.line(outlier_01, p1, p2, color, 1)\n",
    "\n",
    "'''Best Inlier Set 12'''\n",
    "inlier_12 = np.concatenate((input_image_list_raw[1], input_image_list_raw[2]), axis=1)\n",
    "outlier_12 = deepcopy(inlier_12)\n",
    "for pair in tqdm(candidate_matches_float_12):\n",
    "    x = pair[0]\n",
    "    x_prime = pair[1]\n",
    "    width = input_image_list_raw[1].shape[1]\n",
    "    p1 = (int(x[0]), int(x[1]))\n",
    "    p2 = (int(x_prime[0]) + width, int(x_prime[1]))\n",
    "    color = random.choice(rainbow)\n",
    "    if pair in best_inlier_set_12:\n",
    "        cv2.circle(inlier_12, p1, 4, color, -1)\n",
    "        cv2.circle(inlier_12, p2, 4, color, -1)\n",
    "        cv2.line(inlier_12, p1, p2, color, 1)\n",
    "    else:\n",
    "        cv2.circle(outlier_12, p1, 4, color, -1)\n",
    "        cv2.circle(outlier_12, p2, 4, color, -1)\n",
    "        cv2.line(outlier_12, p1, p2, color, 1)\n",
    "\n",
    "'''Best Inlier Set 23'''\n",
    "inlier_23 = np.concatenate((input_image_list_raw[2], input_image_list_raw[3]), axis=1)\n",
    "outlier_23 = deepcopy(inlier_23)\n",
    "for pair in tqdm(candidate_matches_float_23):\n",
    "    x = pair[0]\n",
    "    x_prime = pair[1]\n",
    "    width = input_image_list_raw[2].shape[1]\n",
    "    p1 = (int(x[0]), int(x[1]))\n",
    "    p2 = (int(x_prime[0]) + width, int(x_prime[1]))\n",
    "    color = random.choice(rainbow)\n",
    "    if pair in best_inlier_set_23:\n",
    "        cv2.circle(inlier_23, p1, 4, color, -1)\n",
    "        cv2.circle(inlier_23, p2, 4, color, -1)\n",
    "        cv2.line(inlier_23, p1, p2, color, 1)\n",
    "    else:\n",
    "        cv2.circle(outlier_23, p1, 4, color, -1)\n",
    "        cv2.circle(outlier_23, p2, 4, color, -1)\n",
    "        cv2.line(outlier_23, p1, p2, color, 1)\n",
    "\n",
    "'''Best Inlier Set 34'''\n",
    "inlier_34 = np.concatenate((input_image_list_raw[3], input_image_list_raw[4]), axis=1)\n",
    "outlier_34 = deepcopy(inlier_34)\n",
    "for pair in tqdm(candidate_matches_float_34):\n",
    "    x = pair[0]\n",
    "    x_prime = pair[1]\n",
    "    width = input_image_list_raw[3].shape[1]\n",
    "    p1 = (int(x[0]), int(x[1]))\n",
    "    p2 = (int(x_prime[0]) + width, int(x_prime[1]))\n",
    "    color = random.choice(rainbow)\n",
    "    if pair in best_inlier_set_34:\n",
    "        cv2.circle(inlier_34, p1, 4, color, -1)\n",
    "        cv2.circle(inlier_34, p2, 4, color, -1)\n",
    "        cv2.line(inlier_34, p1, p2, color, 1)\n",
    "    else:\n",
    "        cv2.circle(outlier_34, p1, 4, color, -1)\n",
    "        cv2.circle(outlier_34, p2, 4, color, -1)\n",
    "        cv2.line(outlier_34, p1, p2, color, 1)\n",
    "\n",
    "\n",
    "cv2.imwrite(f\"/Users/wang3450/Desktop/ECE661/HW05/{imageSet}_inliers_01.jpg\", inlier_01)\n",
    "cv2.imwrite(f\"/Users/wang3450/Desktop/ECE661/HW05/{imageSet}_outlier_01.jpg\", outlier_01)\n",
    "cv2.imwrite(f\"/Users/wang3450/Desktop/ECE661/HW05/{imageSet}_inliers_12.jpg\", inlier_12)\n",
    "cv2.imwrite(f\"/Users/wang3450/Desktop/ECE661/HW05/{imageSet}_outlier_12.jpg\", outlier_12)\n",
    "cv2.imwrite(f\"/Users/wang3450/Desktop/ECE661/HW05/{imageSet}_inliers_23.jpg\", inlier_23)\n",
    "cv2.imwrite(f\"/Users/wang3450/Desktop/ECE661/HW05/{imageSet}_outlier_23.jpg\", outlier_23)\n",
    "cv2.imwrite(f\"/Users/wang3450/Desktop/ECE661/HW05/{imageSet}_inliers_34.jpg\", inlier_34)\n",
    "cv2.imwrite(f\"/Users/wang3450/Desktop/ECE661/HW05/{imageSet}_outlier_34.jpg\", outlier_34)"
   ],
   "metadata": {
    "collapsed": false,
    "pycharm": {
     "name": "#%%\n"
    }
   }
  },
  {
   "cell_type": "markdown",
   "source": [],
   "metadata": {
    "collapsed": false
   }
  },
  {
   "cell_type": "markdown",
   "source": [
    "Stitch the Images Together via Projection onto a Cylinder"
   ],
   "metadata": {
    "collapsed": false
   }
  },
  {
   "cell_type": "code",
   "execution_count": 13,
   "outputs": [],
   "source": [
    "# homography_list = [bestHomography_01, bestHomography_12, bestHomography_23, bestHomography_34]\n",
    "# BaseImage, _, _ = ProjectOntoCylinder(input_image_list_raw[0])\n",
    "# for i in range(1, len(input_image_list_raw)):\n",
    "#     StitchedImage = stitchImage(BaseImage, input_image_list_raw[i])\n",
    "#     BaseImage = StitchedImage.copy()\n",
    "# cv2.imwrite(\"given_panorama.png\", BaseImage)"
   ],
   "metadata": {
    "collapsed": false,
    "pycharm": {
     "name": "#%%\n"
    }
   }
  }
 ],
 "metadata": {
  "kernelspec": {
   "display_name": "Python 3",
   "language": "python",
   "name": "python3"
  },
  "language_info": {
   "codemirror_mode": {
    "name": "ipython",
    "version": 2
   },
   "file_extension": ".py",
   "mimetype": "text/x-python",
   "name": "python",
   "nbconvert_exporter": "python",
   "pygments_lexer": "ipython2",
   "version": "2.7.6"
  }
 },
 "nbformat": 4,
 "nbformat_minor": 0
}